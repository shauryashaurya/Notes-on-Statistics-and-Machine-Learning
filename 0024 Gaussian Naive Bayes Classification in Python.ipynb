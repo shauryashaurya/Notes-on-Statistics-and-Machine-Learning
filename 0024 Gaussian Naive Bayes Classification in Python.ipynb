{
 "cells": [
  {
   "cell_type": "markdown",
   "metadata": {},
   "source": [
    "# 22 One-way ANOVA - Analysis of Variance\n",
    "\n",
    "### ."
   ]
  },
  {
   "cell_type": "markdown",
   "metadata": {},
   "source": [
    "### Overview\n",
    "<span>\n",
    "    <table>\n",
    "        <tr><td>Testing Multiple Independent Samples<td><td>Case<td><tr>\n",
    "        <tr><td>Grand Mean<td><td>Hypothesis<td><tr>\n",
    "        <tr><td>ANOVA<td><td>Between-group Variability<td><tr>\n",
    "        <tr><td>Within-group Variability<td><td>F-statistic<td><tr>\n",
    "        <tr><td>Hypothesis Testing<td><td>ANOVA with f_oneway<td><tr>\n",
    "        <tr><td>ANOVA Table<td><td>Eta Squared<td><tr>\n",
    "        <tr><td>Tukey's HSD<td><tr>\n",
    "    <table>\n",
    "<span>"
   ]
  },
  {
   "cell_type": "markdown",
   "metadata": {},
   "source": [
    "### Setup"
   ]
  },
  {
   "cell_type": "code",
   "execution_count": 1,
   "metadata": {},
   "outputs": [
    {
     "data": {
      "text/plain": [
       "'3.8.5 (default, Sep  3 2020, 21:29:08) [MSC v.1916 64 bit (AMD64)]'"
      ]
     },
     "execution_count": 1,
     "metadata": {},
     "output_type": "execute_result"
    }
   ],
   "source": [
    "# 22 One-way ANOVA - Analysis of Variance\n",
    "\n",
    "### .\n",
    "\n",
    "### Overview\n",
    "<span>\n",
    "    <table>\n",
    "        <tr><td>Testing Multiple Independent Samples<td><td>Case<td><tr>\n",
    "        <tr><td>Grand Mean<td><td>Hypothesis<td><tr>\n",
    "        <tr><td>ANOVA<td><td>Between-group Variability<td><tr>\n",
    "        <tr><td>Within-group Variability<td><td>F-statistic<td><tr>\n",
    "        <tr><td>Hypothesis Testing<td><td>ANOVA with f_oneway<td><tr>\n",
    "        <tr><td>ANOVA Table<td><td>Eta Squared<td><tr>\n",
    "        <tr><td>Tukey's HSD<td><tr>\n",
    "    <table>\n",
    "<span>\n",
    "\n",
    "### Setup%matplotlib inline\n",
    "import sys\n",
    "import numpy as np\n",
    "import pandas as pd\n",
    "import matplotlib.pyplot as plt\n",
    "import seaborn as sns\n",
    "from __future__ import print_function\n",
    "\n",
    "# turn of data table rendering\n",
    "pd.set_option('display.notebook_repr_html', False)\n",
    "sns.set_palette(['#00A99D', '#F5CA0C', '#B6129F', '#76620C', '#095C57'])\n",
    "sys.version"
   ]
  },
  {
   "cell_type": "markdown",
   "metadata": {},
   "source": [
    "## Supervised Classification\n",
    "In this type of machine learing we tell the system the correct answer to a set a features. The system should be thaught so well that it is later capable of accurately classifying data it did not encounter before. Some examples of applications are; recognize someone in a picture from a set of tagged photos, spam filtering and recommender systems (music, movies, customers who buy this product also bought...)"
   ]
  },
  {
   "cell_type": "markdown",
   "metadata": {},
   "source": [
    "### Features and Labels\n",
    "We can describe a hidden object based on its features. A piece of music, for instance, can have continuous features like the song lenght, tempo, dynamics, intensity. Labels are the classes an object can belong to. In this case a class could be whether a song is liked or disliked by someone.\n",
    "\n",
    "A classifier algorithm defines a decision surface (DS) to separate one class from another. If we know on which side of the boundary a new data point falls, we can predict what class it belongs to. The example below is a linear decision surface. The scatterplot shows two features (a, b) and the purple descision boundary separates two classes (1, 2)."
   ]
  },
  {
   "cell_type": "code",
   "execution_count": 2,
   "metadata": {},
   "outputs": [
    {
     "name": "stderr",
     "output_type": "stream",
     "text": [
      "D:\\1\\a3\\lib\\site-packages\\seaborn\\_decorators.py:36: FutureWarning: Pass the following variables as keyword args: x, y, data. From version 0.12, the only valid positional argument will be `data`, and passing other arguments without an explicit keyword will result in an error or misinterpretation.\n",
      "  warnings.warn(\n"
     ]
    },
    {
     "data": {
      "image/png": "[encoded data removed]",
      "text/plain": [
       "<Figure size 402.375x360 with 1 Axes>"
      ]
     },
     "metadata": {
      "needs_background": "light"
     },
     "output_type": "display_data"
    }
   ],
   "source": [
    "# Create and plot a linear descision surface\n",
    "df = pd.DataFrame({'feature_a': np.random.rand(100) * 6, \n",
    "                   'feature_b': np.random.rand(100) * 4.2, \n",
    "                   'class': 1})\n",
    "df = df.append(pd.DataFrame({\n",
    "                   'feature_a': np.random.rand(100) * 6 + 1.7, \n",
    "                   'feature_b': np.random.rand(100) * np.random.randint(5,6) + 3.8, \n",
    "                   'class': 2}))\n",
    "\n",
    "sns.lmplot(\"feature_a\", \"feature_b\", df, hue='class', \n",
    "           markers=[\"x\", \"o\"], scatter_kws={\"s\": 30}, fit_reg=False);\n",
    "\n",
    "plt.plot([9.5,0.5], [1.5,6.5], color='#B6129F')\n",
    "plt.show()"
   ]
  },
  {
   "cell_type": "markdown",
   "metadata": {},
   "source": [
    "## Gaussian Naive Bayes Classifier\n",
    "Naive Bayes Classifiers are a set of supervised machine learning classifiers based on applying [Bayes' Theorem](http://unsupervised-learning.com/bayes-theorem-conditional-probability/). The reason it is called naive is mainly because the algorithms assume independence between features. For example, a solely naive Bayes spam filter only looks at the words separately and doesn't take the word order into account.\n",
    "\n",
    "In the example below we use the training set from the example above to train a [Gaussian Naive Bayes Classifier](http://scikit-learn.org/stable/modules/naive_bayes.html#naive-bayes) found in scikit-learn called [GaussianNB](http://scikit-learn.org/stable/modules/generated/sklearn.naive_bayes.GaussianNB.html#sklearn.naive_bayes.GaussianNB). The likelihood of the chosen features in the data is assumed to folow the [Bell curve](http://en.wikipedia.org/wiki/The_Bell_Curve)."
   ]
  },
  {
   "cell_type": "code",
   "execution_count": 3,
   "metadata": {},
   "outputs": [
    {
     "data": {
      "text/plain": [
       "      class  feature_a  feature_b\n",
       "0  2.270177   3.933420        2.0\n",
       "1  4.308726   4.651827        2.0\n",
       "2  5.443308   1.551730        1.0\n",
       "3  3.817054   4.461407        2.0\n",
       "4  5.786294   1.595679        1.0"
      ]
     },
     "execution_count": 3,
     "metadata": {},
     "output_type": "execute_result"
    }
   ],
   "source": [
    "# First shuffle the labeled dataframe\n",
    "def shuffle(data, n):\n",
    "    ind = data.index\n",
    "    for i in range(n):\n",
    "       sampler = np.random.permutation(data.shape[0])\n",
    "       new_vals = data.take(sampler).values\n",
    "       data = pd.DataFrame(new_vals, index=ind)\n",
    "    return data\n",
    "\n",
    "df = shuffle(df, 1)\n",
    "df.columns = ['class', 'feature_a', 'feature_b']\n",
    "df.head()"
   ]
  },
  {
   "cell_type": "code",
   "execution_count": 4,
   "metadata": {},
   "outputs": [
    {
     "data": {
      "text/plain": [
       "        feature_a   feature_b\n",
       "count  150.000000  150.000000\n",
       "mean     4.069641    1.480000\n",
       "std      2.419168    0.501274\n",
       "min      0.020622    1.000000\n",
       "25%      1.977991    1.000000\n",
       "50%      3.902685    1.000000\n",
       "75%      5.842602    2.000000\n",
       "max      8.710439    2.000000"
      ]
     },
     "execution_count": 4,
     "metadata": {},
     "output_type": "execute_result"
    }
   ],
   "source": [
    "# Create a training set of 3/4 of the data\n",
    "train_n = 150\n",
    "\n",
    "train_features = df[['feature_a', 'feature_b']][:train_n]\n",
    "train_labels = df['class'][:train_n]\n",
    "train_features.describe()"
   ]
  },
  {
   "cell_type": "code",
   "execution_count": 5,
   "metadata": {},
   "outputs": [
    {
     "data": {
      "text/plain": [
       "       feature_a  feature_b\n",
       "count  50.000000  50.000000\n",
       "mean    4.685872   1.560000\n",
       "std     2.560541   0.501427\n",
       "min     0.010110   1.000000\n",
       "25%     2.863758   1.000000\n",
       "50%     4.011913   2.000000\n",
       "75%     6.934219   2.000000\n",
       "max     8.788765   2.000000"
      ]
     },
     "execution_count": 5,
     "metadata": {},
     "output_type": "execute_result"
    }
   ],
   "source": [
    "# Create a test set of 1/4 of the data to evaluate the classifier\n",
    "test_features = df[['feature_a', 'feature_b']][train_n:]\n",
    "test_labels = df['class'][train_n:]\n",
    "test_features.describe()"
   ]
  },
  {
   "cell_type": "code",
   "execution_count": 6,
   "metadata": {},
   "outputs": [
    {
     "ename": "ValueError",
     "evalue": "Unknown label type: (array([0.03208077, 0.09770384, 0.17934429, 0.20753525, 0.29071362,\n       0.32280302, 0.40385897, 0.48099324, 0.52920649, 0.54668586,\n       0.57590263, 0.62670961, 0.67845768, 0.75490383, 0.83862616,\n       1.06050931, 1.07930166, 1.28805354, 1.38561354, 1.3980192 ,\n       1.40017153, 1.46616415, 1.5352245 , 1.57414148, 1.71189573,\n       1.84070153, 1.8575232 , 1.89306715, 1.89756378, 1.90044409,\n       1.93245565, 1.9652921 , 1.99568424, 2.02451699, 2.05169587,\n       2.22968753, 2.2515045 , 2.27017732, 2.27891228, 2.30462391,\n       2.34667668, 2.38885403, 2.48187777, 2.60783317, 2.64562174,\n       2.68236407, 2.79614044, 2.79641817, 2.80137939, 2.80919563,\n       2.82602111, 2.827232  , 2.87906918, 2.88493139, 2.91424601,\n       3.00311129, 3.02326037, 3.05801006, 3.08412986, 3.12215531,\n       3.35959481, 3.37340709, 3.39744803, 3.40560186, 3.41031764,\n       3.41194263, 3.45189752, 3.47133742, 3.49755484, 3.57507832,\n       3.58771969, 3.60632593, 3.62595311, 3.72005755, 3.72290854,\n       3.81705403, 3.84020266, 3.87904547, 3.94915146, 4.04576278,\n       4.07268455, 4.12209596, 4.15498202, 4.15969324, 4.19097394,\n       4.24262773, 4.3087263 , 4.33283498, 4.33766841, 4.34155569,\n       4.34500781, 4.36897098, 4.39099577, 4.39251092, 4.42511454,\n       4.43191042, 4.47709406, 4.48113894, 4.50151441, 4.54992186,\n       4.55617959, 4.56176123, 4.59385786, 4.62853531, 4.65158682,\n       4.69399793, 4.7154877 , 4.7591725 , 4.7766927 , 4.78412601,\n       4.78780773, 4.80289577, 4.80321281, 4.98542007, 4.986331  ,\n       5.01249887, 5.04160528, 5.06948038, 5.18132583, 5.19470822,\n       5.26582183, 5.44330779, 5.45324191, 5.47459866, 5.56769019,\n       5.58903972, 5.64780661, 5.7000362 , 5.78629416, 5.80008856,\n       5.86227559, 5.89240075, 6.07700504, 6.18630595, 6.46314177,\n       6.48922554, 6.62876008, 6.67748262, 6.87794761, 6.93200223,\n       6.94103333, 6.98685524, 7.01885967, 7.17900404, 7.2589308 ,\n       7.42329008, 7.54315253, 7.57587306, 7.68445991, 7.69579322]),)",
     "output_type": "error",
     "traceback": [
      "\u001b[1;31m---------------------------------------------------------------------------\u001b[0m",
      "\u001b[1;31mValueError\u001b[0m                                Traceback (most recent call last)",
      "\u001b[1;32m<ipython-input-6-1ef9d0f88949>\u001b[0m in \u001b[0;36m<module>\u001b[1;34m\u001b[0m\n\u001b[0;32m      2\u001b[0m \u001b[1;32mfrom\u001b[0m \u001b[0msklearn\u001b[0m\u001b[1;33m.\u001b[0m\u001b[0mnaive_bayes\u001b[0m \u001b[1;32mimport\u001b[0m \u001b[0mGaussianNB\u001b[0m\u001b[1;33m\u001b[0m\u001b[1;33m\u001b[0m\u001b[0m\n\u001b[0;32m      3\u001b[0m \u001b[0mclf\u001b[0m \u001b[1;33m=\u001b[0m \u001b[0mGaussianNB\u001b[0m\u001b[1;33m(\u001b[0m\u001b[1;33m)\u001b[0m\u001b[1;33m\u001b[0m\u001b[1;33m\u001b[0m\u001b[0m\n\u001b[1;32m----> 4\u001b[1;33m \u001b[0mclf\u001b[0m\u001b[1;33m.\u001b[0m\u001b[0mfit\u001b[0m\u001b[1;33m(\u001b[0m\u001b[0mtrain_features\u001b[0m\u001b[1;33m,\u001b[0m \u001b[0mtrain_labels\u001b[0m\u001b[1;33m)\u001b[0m\u001b[1;33m\u001b[0m\u001b[1;33m\u001b[0m\u001b[0m\n\u001b[0m\u001b[0;32m      5\u001b[0m \u001b[0mclf\u001b[0m\u001b[1;33m.\u001b[0m\u001b[0mpredict\u001b[0m\u001b[1;33m(\u001b[0m\u001b[1;33m[\u001b[0m\u001b[1;36m4.8\u001b[0m\u001b[1;33m,\u001b[0m \u001b[1;36m4.2\u001b[0m\u001b[1;33m]\u001b[0m\u001b[1;33m)\u001b[0m\u001b[1;33m\u001b[0m\u001b[1;33m\u001b[0m\u001b[0m\n",
      "\u001b[1;32mD:\\1\\a3\\lib\\site-packages\\sklearn\\naive_bayes.py\u001b[0m in \u001b[0;36mfit\u001b[1;34m(self, X, y, sample_weight)\u001b[0m\n\u001b[0;32m    210\u001b[0m         \u001b[0mX\u001b[0m\u001b[1;33m,\u001b[0m \u001b[0my\u001b[0m \u001b[1;33m=\u001b[0m \u001b[0mself\u001b[0m\u001b[1;33m.\u001b[0m\u001b[0m_validate_data\u001b[0m\u001b[1;33m(\u001b[0m\u001b[0mX\u001b[0m\u001b[1;33m,\u001b[0m \u001b[0my\u001b[0m\u001b[1;33m)\u001b[0m\u001b[1;33m\u001b[0m\u001b[1;33m\u001b[0m\u001b[0m\n\u001b[0;32m    211\u001b[0m         \u001b[0my\u001b[0m \u001b[1;33m=\u001b[0m \u001b[0mcolumn_or_1d\u001b[0m\u001b[1;33m(\u001b[0m\u001b[0my\u001b[0m\u001b[1;33m,\u001b[0m \u001b[0mwarn\u001b[0m\u001b[1;33m=\u001b[0m\u001b[1;32mTrue\u001b[0m\u001b[1;33m)\u001b[0m\u001b[1;33m\u001b[0m\u001b[1;33m\u001b[0m\u001b[0m\n\u001b[1;32m--> 212\u001b[1;33m         return self._partial_fit(X, y, np.unique(y), _refit=True,\n\u001b[0m\u001b[0;32m    213\u001b[0m                                  sample_weight=sample_weight)\n\u001b[0;32m    214\u001b[0m \u001b[1;33m\u001b[0m\u001b[0m\n",
      "\u001b[1;32mD:\\1\\a3\\lib\\site-packages\\sklearn\\naive_bayes.py\u001b[0m in \u001b[0;36m_partial_fit\u001b[1;34m(self, X, y, classes, _refit, sample_weight)\u001b[0m\n\u001b[0;32m    375\u001b[0m             \u001b[0mself\u001b[0m\u001b[1;33m.\u001b[0m\u001b[0mclasses_\u001b[0m \u001b[1;33m=\u001b[0m \u001b[1;32mNone\u001b[0m\u001b[1;33m\u001b[0m\u001b[1;33m\u001b[0m\u001b[0m\n\u001b[0;32m    376\u001b[0m \u001b[1;33m\u001b[0m\u001b[0m\n\u001b[1;32m--> 377\u001b[1;33m         \u001b[1;32mif\u001b[0m \u001b[0m_check_partial_fit_first_call\u001b[0m\u001b[1;33m(\u001b[0m\u001b[0mself\u001b[0m\u001b[1;33m,\u001b[0m \u001b[0mclasses\u001b[0m\u001b[1;33m)\u001b[0m\u001b[1;33m:\u001b[0m\u001b[1;33m\u001b[0m\u001b[1;33m\u001b[0m\u001b[0m\n\u001b[0m\u001b[0;32m    378\u001b[0m             \u001b[1;31m# This is the first call to partial_fit:\u001b[0m\u001b[1;33m\u001b[0m\u001b[1;33m\u001b[0m\u001b[1;33m\u001b[0m\u001b[0m\n\u001b[0;32m    379\u001b[0m             \u001b[1;31m# initialize various cumulative counters\u001b[0m\u001b[1;33m\u001b[0m\u001b[1;33m\u001b[0m\u001b[1;33m\u001b[0m\u001b[0m\n",
      "\u001b[1;32mD:\\1\\a3\\lib\\site-packages\\sklearn\\utils\\multiclass.py\u001b[0m in \u001b[0;36m_check_partial_fit_first_call\u001b[1;34m(clf, classes)\u001b[0m\n\u001b[0;32m    321\u001b[0m         \u001b[1;32melse\u001b[0m\u001b[1;33m:\u001b[0m\u001b[1;33m\u001b[0m\u001b[1;33m\u001b[0m\u001b[0m\n\u001b[0;32m    322\u001b[0m             \u001b[1;31m# This is the first call to partial_fit\u001b[0m\u001b[1;33m\u001b[0m\u001b[1;33m\u001b[0m\u001b[1;33m\u001b[0m\u001b[0m\n\u001b[1;32m--> 323\u001b[1;33m             \u001b[0mclf\u001b[0m\u001b[1;33m.\u001b[0m\u001b[0mclasses_\u001b[0m \u001b[1;33m=\u001b[0m \u001b[0munique_labels\u001b[0m\u001b[1;33m(\u001b[0m\u001b[0mclasses\u001b[0m\u001b[1;33m)\u001b[0m\u001b[1;33m\u001b[0m\u001b[1;33m\u001b[0m\u001b[0m\n\u001b[0m\u001b[0;32m    324\u001b[0m             \u001b[1;32mreturn\u001b[0m \u001b[1;32mTrue\u001b[0m\u001b[1;33m\u001b[0m\u001b[1;33m\u001b[0m\u001b[0m\n\u001b[0;32m    325\u001b[0m \u001b[1;33m\u001b[0m\u001b[0m\n",
      "\u001b[1;32mD:\\1\\a3\\lib\\site-packages\\sklearn\\utils\\multiclass.py\u001b[0m in \u001b[0;36munique_labels\u001b[1;34m(*ys)\u001b[0m\n\u001b[0;32m     95\u001b[0m     \u001b[0m_unique_labels\u001b[0m \u001b[1;33m=\u001b[0m \u001b[0m_FN_UNIQUE_LABELS\u001b[0m\u001b[1;33m.\u001b[0m\u001b[0mget\u001b[0m\u001b[1;33m(\u001b[0m\u001b[0mlabel_type\u001b[0m\u001b[1;33m,\u001b[0m \u001b[1;32mNone\u001b[0m\u001b[1;33m)\u001b[0m\u001b[1;33m\u001b[0m\u001b[1;33m\u001b[0m\u001b[0m\n\u001b[0;32m     96\u001b[0m     \u001b[1;32mif\u001b[0m \u001b[1;32mnot\u001b[0m \u001b[0m_unique_labels\u001b[0m\u001b[1;33m:\u001b[0m\u001b[1;33m\u001b[0m\u001b[1;33m\u001b[0m\u001b[0m\n\u001b[1;32m---> 97\u001b[1;33m         \u001b[1;32mraise\u001b[0m \u001b[0mValueError\u001b[0m\u001b[1;33m(\u001b[0m\u001b[1;34m\"Unknown label type: %s\"\u001b[0m \u001b[1;33m%\u001b[0m \u001b[0mrepr\u001b[0m\u001b[1;33m(\u001b[0m\u001b[0mys\u001b[0m\u001b[1;33m)\u001b[0m\u001b[1;33m)\u001b[0m\u001b[1;33m\u001b[0m\u001b[1;33m\u001b[0m\u001b[0m\n\u001b[0m\u001b[0;32m     98\u001b[0m \u001b[1;33m\u001b[0m\u001b[0m\n\u001b[0;32m     99\u001b[0m     \u001b[0mys_labels\u001b[0m \u001b[1;33m=\u001b[0m \u001b[0mset\u001b[0m\u001b[1;33m(\u001b[0m\u001b[0mchain\u001b[0m\u001b[1;33m.\u001b[0m\u001b[0mfrom_iterable\u001b[0m\u001b[1;33m(\u001b[0m\u001b[0m_unique_labels\u001b[0m\u001b[1;33m(\u001b[0m\u001b[0my\u001b[0m\u001b[1;33m)\u001b[0m \u001b[1;32mfor\u001b[0m \u001b[0my\u001b[0m \u001b[1;32min\u001b[0m \u001b[0mys\u001b[0m\u001b[1;33m)\u001b[0m\u001b[1;33m)\u001b[0m\u001b[1;33m\u001b[0m\u001b[1;33m\u001b[0m\u001b[0m\n",
      "\u001b[1;31mValueError\u001b[0m: Unknown label type: (array([0.03208077, 0.09770384, 0.17934429, 0.20753525, 0.29071362,\n       0.32280302, 0.40385897, 0.48099324, 0.52920649, 0.54668586,\n       0.57590263, 0.62670961, 0.67845768, 0.75490383, 0.83862616,\n       1.06050931, 1.07930166, 1.28805354, 1.38561354, 1.3980192 ,\n       1.40017153, 1.46616415, 1.5352245 , 1.57414148, 1.71189573,\n       1.84070153, 1.8575232 , 1.89306715, 1.89756378, 1.90044409,\n       1.93245565, 1.9652921 , 1.99568424, 2.02451699, 2.05169587,\n       2.22968753, 2.2515045 , 2.27017732, 2.27891228, 2.30462391,\n       2.34667668, 2.38885403, 2.48187777, 2.60783317, 2.64562174,\n       2.68236407, 2.79614044, 2.79641817, 2.80137939, 2.80919563,\n       2.82602111, 2.827232  , 2.87906918, 2.88493139, 2.91424601,\n       3.00311129, 3.02326037, 3.05801006, 3.08412986, 3.12215531,\n       3.35959481, 3.37340709, 3.39744803, 3.40560186, 3.41031764,\n       3.41194263, 3.45189752, 3.47133742, 3.49755484, 3.57507832,\n       3.58771969, 3.60632593, 3.62595311, 3.72005755, 3.72290854,\n       3.81705403, 3.84020266, 3.87904547, 3.94915146, 4.04576278,\n       4.07268455, 4.12209596, 4.15498202, 4.15969324, 4.19097394,\n       4.24262773, 4.3087263 , 4.33283498, 4.33766841, 4.34155569,\n       4.34500781, 4.36897098, 4.39099577, 4.39251092, 4.42511454,\n       4.43191042, 4.47709406, 4.48113894, 4.50151441, 4.54992186,\n       4.55617959, 4.56176123, 4.59385786, 4.62853531, 4.65158682,\n       4.69399793, 4.7154877 , 4.7591725 , 4.7766927 , 4.78412601,\n       4.78780773, 4.80289577, 4.80321281, 4.98542007, 4.986331  ,\n       5.01249887, 5.04160528, 5.06948038, 5.18132583, 5.19470822,\n       5.26582183, 5.44330779, 5.45324191, 5.47459866, 5.56769019,\n       5.58903972, 5.64780661, 5.7000362 , 5.78629416, 5.80008856,\n       5.86227559, 5.89240075, 6.07700504, 6.18630595, 6.46314177,\n       6.48922554, 6.62876008, 6.67748262, 6.87794761, 6.93200223,\n       6.94103333, 6.98685524, 7.01885967, 7.17900404, 7.2589308 ,\n       7.42329008, 7.54315253, 7.57587306, 7.68445991, 7.69579322]),)"
     ]
    }
   ],
   "source": [
    "# Train a Gaussian Naive Bayes Classifier\n",
    "from sklearn.naive_bayes import GaussianNB\n",
    "clf = GaussianNB()\n",
    "clf.fit(train_features, train_labels)\n",
    "clf.predict([4.8, 4.2])"
   ]
  },
  {
   "cell_type": "code",
   "execution_count": null,
   "metadata": {},
   "outputs": [],
   "source": [
    "# Query the accuracy of the model with the test set\n",
    "accuracy = clf.score(test_features, test_labels)\n",
    "print(accuracy)"
   ]
  },
  {
   "cell_type": "code",
   "execution_count": null,
   "metadata": {},
   "outputs": [],
   "source": [
    "# Another, more generic, way to calculate accuracy in scikit-learn\n",
    "from sklearn.metrics import accuracy_score\n",
    "print((accuracy_score(clf.predict(test_features), test_labels)))"
   ]
  },
  {
   "cell_type": "code",
   "execution_count": null,
   "metadata": {},
   "outputs": [],
   "source": [
    "def plot_decision_surface(clf, features, labels, title):\n",
    "    x_min = 0.0; x_max = 8.0\n",
    "    y_min = 0.0; y_max = 8.0\n",
    "\n",
    "    # Plot the decision boundary. For that, we will assign a color to each\n",
    "    # point in the mesh [x_min, m_max]x[y_min, y_max].\n",
    "    h = .01  # step size in the mesh\n",
    "    xx, yy = np.meshgrid(np.arange(x_min, x_max, h), np.arange(y_min, y_max, h))\n",
    "    Z = clf.predict(np.c_[xx.ravel(), yy.ravel()])   \n",
    "    z_min, z_max = -np.abs(Z).max(), np.abs(Z).max()\n",
    "    \n",
    "    # set title\n",
    "    f, ax = plt.subplots()\n",
    "    ax.set_title(title)\n",
    "\n",
    "    # Put the result into a color plot\n",
    "    Z = Z.reshape(xx.shape)\n",
    "    plt.xlim(xx.min(), xx.max())\n",
    "    plt.ylim(yy.min(), yy.max())\n",
    "    plt.pcolormesh(xx, yy, Z, cmap='gray', vmin=.2, vmax=2.4)  # \n",
    "\n",
    "    # Plot the points\n",
    "    class_1_x = [features[ii][0] for ii in range(0, len(features)) if labels[ii]==1]\n",
    "    class_1_y = [features[ii][1] for ii in range(0, len(features)) if labels[ii]==1]\n",
    "    class_2_x = [features[ii][0] for ii in range(0, len(features)) if labels[ii]==2]\n",
    "    class_2_y = [features[ii][1] for ii in range(0, len(features)) if labels[ii]==2]\n",
    "\n",
    "    plt.scatter(class_1_x, class_1_y, color = '#F5CA0C', label=\"1\", s=40)\n",
    "    plt.scatter(class_2_x, class_2_y, color = '#00A99D', label=\"2\", s=40)\n",
    "   \n",
    "    plt.xlabel(\"feature_a\")\n",
    "    plt.ylabel(\"feature_b\")\n",
    "    plt.legend(('class 1', 'class 2'), frameon=True)\n",
    "    \n",
    "    \n",
    "# Plot the decision surface and data point for training and tests data\n",
    "plot_decision_surface(clf, train_features.values, train_labels.values, \n",
    "                      'Training data')\n",
    "plot_decision_surface(clf, test_features.values, test_labels.values,\n",
    "                      'Test data')"
   ]
  },
  {
   "cell_type": "markdown",
   "metadata": {},
   "source": [
    "### Done!\n",
    "\n",
    "#### Next: _Independent Events and Compound Probability_"
   ]
  }
 ],
 "metadata": {
  "kernelspec": {
   "display_name": "Python 3 (ipykernel)",
   "language": "python",
   "name": "python3"
  },
  "language_info": {
   "codemirror_mode": {
    "name": "ipython",
    "version": 3
   },
   "file_extension": ".py",
   "mimetype": "text/x-python",
   "name": "python",
   "nbconvert_exporter": "python",
   "pygments_lexer": "ipython3",
   "version": "3.9.12"
  }
 },
 "nbformat": 4,
 "nbformat_minor": 1
}

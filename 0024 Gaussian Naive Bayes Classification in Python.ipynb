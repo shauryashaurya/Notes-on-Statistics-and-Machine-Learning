{
 "cells": [
  {
   "cell_type": "markdown",
   "metadata": {
    "slideshow": {
     "slide_type": "slide"
    }
   },
   "source": [
    "# 22 One-way ANOVA - Analysis of Variance\n",
    "\n",
    "### ."
   ]
  },
  {
   "cell_type": "markdown",
   "metadata": {
    "slideshow": {
     "slide_type": "subslide"
    }
   },
   "source": [
    "### Overview\n",
    "<span>\n",
    "    <table>\n",
    "        <tr><td>Testing Multiple Independent Samples<td><td>Case<td><tr>\n",
    "        <tr><td>Grand Mean<td><td>Hypothesis<td><tr>\n",
    "        <tr><td>ANOVA<td><td>Between-group Variability<td><tr>\n",
    "        <tr><td>Within-group Variability<td><td>F-statistic<td><tr>\n",
    "        <tr><td>Hypothesis Testing<td><td>ANOVA with f_oneway<td><tr>\n",
    "        <tr><td>ANOVA Table<td><td>Eta Squared<td><tr>\n",
    "        <tr><td>Tukey's HSD<td><tr>\n",
    "    <table>\n",
    "<span>"
   ]
  },
  {
   "cell_type": "markdown",
   "metadata": {
    "slideshow": {
     "slide_type": "slide"
    }
   },
   "source": [
    "### Setup"
   ]
  },
  {
   "cell_type": "code",
   "execution_count": 1,
   "metadata": {
    "slideshow": {
     "slide_type": "subslide"
    }
   },
   "outputs": [
    {
     "data": {
      "text/plain": [
       "'3.9.12 (main, Apr  4 2022, 05:22:27) [MSC v.1916 64 bit (AMD64)]'"
      ]
     },
     "execution_count": 1,
     "metadata": {},
     "output_type": "execute_result"
    }
   ],
   "source": [
    "%matplotlib inline\n",
    "import sys\n",
    "import numpy as np\n",
    "import pandas as pd\n",
    "import matplotlib.pyplot as plt\n",
    "import seaborn as sns\n",
    "from __future__ import print_function\n",
    "\n",
    "# turn of data table rendering\n",
    "pd.set_option('display.notebook_repr_html', False)\n",
    "sns.set_palette(['#00A99D', '#F5CA0C', '#B6129F', '#76620C', '#095C57'])\n",
    "sys.version"
   ]
  },
  {
   "cell_type": "markdown",
   "metadata": {
    "slideshow": {
     "slide_type": "slide"
    }
   },
   "source": [
    "## Supervised Classification\n",
    "In this type of machine learing we tell the system the correct answer to a set a features. The system should be thaught so well that it is later capable of accurately classifying data it did not encounter before. Some examples of applications are; recognize someone in a picture from a set of tagged photos, spam filtering and recommender systems (music, movies, customers who buy this product also bought...)"
   ]
  },
  {
   "cell_type": "markdown",
   "metadata": {
    "slideshow": {
     "slide_type": "subslide"
    }
   },
   "source": [
    "### Features and Labels\n",
    "We can describe a hidden object based on its features. A piece of music, for instance, can have continuous features like the song lenght, tempo, dynamics, intensity. Labels are the classes an object can belong to. In this case a class could be whether a song is liked or disliked by someone.\n",
    "\n",
    "A classifier algorithm defines a decision surface (DS) to separate one class from another. If we know on which side of the boundary a new data point falls, we can predict what class it belongs to. The example below is a linear decision surface. The scatterplot shows two features (a, b) and the purple descision boundary separates two classes (1, 2)."
   ]
  },
  {
   "cell_type": "code",
   "execution_count": 2,
   "metadata": {
    "slideshow": {
     "slide_type": "subslide"
    }
   },
   "outputs": [
    {
     "name": "stderr",
     "output_type": "stream",
     "text": [
      "C:\\Users\\shaurya.agarwal\\AppData\\Local\\Temp\\ipykernel_26928\\3611532213.py:5: FutureWarning: The frame.append method is deprecated and will be removed from pandas in a future version. Use pandas.concat instead.\n",
      "  df = df.append(pd.DataFrame({\n",
      "D:\\1\\a3\\lib\\site-packages\\seaborn\\_decorators.py:36: FutureWarning: Pass the following variables as keyword args: x, y, data. From version 0.12, the only valid positional argument will be `data`, and passing other arguments without an explicit keyword will result in an error or misinterpretation.\n",
      "  warnings.warn(\n"
     ]
    },
    {
     "data": {
      "image/png": "[encoded data removed]",
      "text/plain": [
       "<Figure size 402.375x360 with 1 Axes>"
      ]
     },
     "metadata": {
      "needs_background": "light"
     },
     "output_type": "display_data"
    }
   ],
   "source": [
    "# Create and plot a linear descision surface\n",
    "df = pd.DataFrame({'feature_a': np.random.rand(100) * 6, \n",
    "                   'feature_b': np.random.rand(100) * 4.2, \n",
    "                   'class': 1})\n",
    "df = df.append(pd.DataFrame({\n",
    "                   'feature_a': np.random.rand(100) * 6 + 1.7, \n",
    "                   'feature_b': np.random.rand(100) * np.random.randint(5,6) + 3.8, \n",
    "                   'class': 2}))\n",
    "\n",
    "sns.lmplot(\"feature_a\", \"feature_b\", df, hue='class', \n",
    "           markers=[\"x\", \"o\"], scatter_kws={\"s\": 30}, fit_reg=False);\n",
    "\n",
    "plt.plot([9.5,0.5], [1.5,6.5], color='#B6129F')\n",
    "plt.show()"
   ]
  },
  {
   "cell_type": "markdown",
   "metadata": {
    "slideshow": {
     "slide_type": "slide"
    }
   },
   "source": [
    "## Gaussian Naive Bayes Classifier\n",
    "Naive Bayes Classifiers are a set of supervised machine learning classifiers based on applying [Bayes' Theorem](http://unsupervised-learning.com/bayes-theorem-conditional-probability/). The reason it is called naive is mainly because the algorithms assume independence between features. For example, a solely naive Bayes spam filter only looks at the words separately and doesn't take the word order into account.\n",
    "\n",
    "In the example below we use the training set from the example above to train a [Gaussian Naive Bayes Classifier](http://scikit-learn.org/stable/modules/naive_bayes.html#naive-bayes) found in scikit-learn called [GaussianNB](http://scikit-learn.org/stable/modules/generated/sklearn.naive_bayes.GaussianNB.html#sklearn.naive_bayes.GaussianNB). The likelihood of the chosen features in the data is assumed to folow the [Bell curve](http://en.wikipedia.org/wiki/The_Bell_Curve)."
   ]
  },
  {
   "cell_type": "code",
   "execution_count": 3,
   "metadata": {
    "slideshow": {
     "slide_type": "subslide"
    }
   },
   "outputs": [
    {
     "data": {
      "text/plain": [
       "      class  feature_a  feature_b\n",
       "0  3.625806   1.824695        1.0\n",
       "1  4.572750   2.076480        1.0\n",
       "2  2.491411   2.065323        1.0\n",
       "3  6.772670   8.583848        2.0\n",
       "4  6.313524   8.299766        2.0"
      ]
     },
     "execution_count": 3,
     "metadata": {},
     "output_type": "execute_result"
    }
   ],
   "source": [
    "# First shuffle the labeled dataframe\n",
    "def shuffle(data, n):\n",
    "    ind = data.index\n",
    "    for i in range(n):\n",
    "       sampler = np.random.permutation(data.shape[0])\n",
    "       new_vals = data.take(sampler).values\n",
    "       data = pd.DataFrame(new_vals, index=ind)\n",
    "    return data\n",
    "\n",
    "df = shuffle(df, 1)\n",
    "df.columns = ['class', 'feature_a', 'feature_b']\n",
    "df.head()"
   ]
  },
  {
   "cell_type": "code",
   "execution_count": 4,
   "metadata": {
    "slideshow": {
     "slide_type": "subslide"
    }
   },
   "outputs": [
    {
     "data": {
      "text/plain": [
       "        feature_a   feature_b\n",
       "count  150.000000  150.000000\n",
       "mean     4.030126    1.466667\n",
       "std      2.512379    0.500559\n",
       "min      0.011006    1.000000\n",
       "25%      2.094530    1.000000\n",
       "50%      3.915104    1.000000\n",
       "75%      5.713395    2.000000\n",
       "max      8.775865    2.000000"
      ]
     },
     "execution_count": 4,
     "metadata": {},
     "output_type": "execute_result"
    }
   ],
   "source": [
    "# Create a training set of 3/4 of the data\n",
    "train_n = 150\n",
    "\n",
    "train_features = df[['feature_a', 'feature_b']][:train_n]\n",
    "train_labels = df['class'][:train_n]\n",
    "train_features.describe()"
   ]
  },
  {
   "cell_type": "code",
   "execution_count": 5,
   "metadata": {
    "slideshow": {
     "slide_type": "subslide"
    }
   },
   "outputs": [
    {
     "data": {
      "text/plain": [
       "       feature_a  feature_b\n",
       "count  50.000000  50.000000\n",
       "mean    4.781285   1.600000\n",
       "std     2.575699   0.494872\n",
       "min     0.099511   1.000000\n",
       "25%     2.424090   1.000000\n",
       "50%     4.777697   2.000000\n",
       "75%     6.954598   2.000000\n",
       "max     8.799447   2.000000"
      ]
     },
     "execution_count": 5,
     "metadata": {},
     "output_type": "execute_result"
    }
   ],
   "source": [
    "# Create a test set of 1/4 of the data to evaluate the classifier\n",
    "test_features = df[['feature_a', 'feature_b']][train_n:]\n",
    "test_labels = df['class'][train_n:]\n",
    "test_features.describe()"
   ]
  },
  {
   "cell_type": "code",
   "execution_count": 6,
   "metadata": {
    "slideshow": {
     "slide_type": "subslide"
    }
   },
   "outputs": [
    {
     "ename": "ValueError",
     "evalue": "Unknown label type: (array([0.01732276, 0.07082236, 0.13654358, 0.16228901, 0.22994268,\n       0.38872522, 0.4182926 , 0.44371691, 0.55133097, 0.58701926,\n       0.69981302, 0.88327937, 0.98136406, 1.00112805, 1.03599474,\n       1.1435543 , 1.20523917, 1.25969634, 1.30995221, 1.35264649,\n       1.55405779, 1.67966476, 1.72422068, 1.75266045, 1.80764865,\n       1.81052283, 1.84100983, 1.89312588, 1.89951507, 2.02693487,\n       2.11998903, 2.16471666, 2.25303603, 2.31832737, 2.34901161,\n       2.35863442, 2.38671938, 2.42478898, 2.45935378, 2.49141101,\n       2.61918214, 2.63419711, 2.67859051, 2.68443688, 2.71657627,\n       2.75508259, 2.80440634, 2.84227399, 2.86966969, 2.90958197,\n       2.9493533 , 3.0186555 , 3.06850693, 3.17348642, 3.22833642,\n       3.24406636, 3.27476223, 3.35929574, 3.42198201, 3.46275141,\n       3.46787012, 3.54789217, 3.62580624, 3.63212651, 3.73294222,\n       3.73707311, 3.74842446, 3.83814651, 3.83883434, 3.84981877,\n       3.88226877, 3.89768304, 3.89856834, 3.91410867, 3.96249421,\n       4.00856601, 4.01821112, 4.09174453, 4.13139756, 4.14446291,\n       4.2040057 , 4.2252455 , 4.24028824, 4.28751763, 4.29031191,\n       4.33292562, 4.36372958, 4.37847903, 4.47376507, 4.51313625,\n       4.57274975, 4.58637171, 4.59333254, 4.5954424 , 4.66017749,\n       4.67982704, 4.74706038, 4.76313092, 4.77244695, 4.78691204,\n       4.83826272, 4.87578953, 4.995689  , 5.00877024, 5.03825671,\n       5.0809355 , 5.11898189, 5.12902372, 5.15783499, 5.16861429,\n       5.17259084, 5.20577975, 5.20780612, 5.26879223, 5.3027752 ,\n       5.32558351, 5.33877767, 5.40909946, 5.47460518, 5.47467907,\n       5.48236938, 5.49304197, 5.50811904, 5.51350788, 5.62471553,\n       5.70418848, 5.72952983, 5.74865797, 5.75045809, 5.80640068,\n       5.93201849, 5.93929374, 6.1407122 , 6.15742724, 6.16747797,\n       6.25316911, 6.31352369, 6.52970054, 6.77267007, 6.79220904,\n       6.86304626, 7.0840477 , 7.19834216, 7.23749501, 7.30293774,\n       7.31840431, 7.3443075 , 7.42631323, 7.56185068, 7.58478532]),)",
     "output_type": "error",
     "traceback": [
      "\u001b[1;31m---------------------------------------------------------------------------\u001b[0m",
      "\u001b[1;31mValueError\u001b[0m                                Traceback (most recent call last)",
      "Input \u001b[1;32mIn [6]\u001b[0m, in \u001b[0;36m<cell line: 4>\u001b[1;34m()\u001b[0m\n\u001b[0;32m      2\u001b[0m \u001b[38;5;28;01mfrom\u001b[39;00m \u001b[38;5;21;01msklearn\u001b[39;00m\u001b[38;5;21;01m.\u001b[39;00m\u001b[38;5;21;01mnaive_bayes\u001b[39;00m \u001b[38;5;28;01mimport\u001b[39;00m GaussianNB\n\u001b[0;32m      3\u001b[0m clf \u001b[38;5;241m=\u001b[39m GaussianNB()\n\u001b[1;32m----> 4\u001b[0m \u001b[43mclf\u001b[49m\u001b[38;5;241;43m.\u001b[39;49m\u001b[43mfit\u001b[49m\u001b[43m(\u001b[49m\u001b[43mtrain_features\u001b[49m\u001b[43m,\u001b[49m\u001b[43m \u001b[49m\u001b[43mtrain_labels\u001b[49m\u001b[43m)\u001b[49m\n\u001b[0;32m      5\u001b[0m clf\u001b[38;5;241m.\u001b[39mpredict([\u001b[38;5;241m4.8\u001b[39m, \u001b[38;5;241m4.2\u001b[39m])\n",
      "File \u001b[1;32mD:\\1\\a3\\lib\\site-packages\\sklearn\\naive_bayes.py:245\u001b[0m, in \u001b[0;36mGaussianNB.fit\u001b[1;34m(self, X, y, sample_weight)\u001b[0m\n\u001b[0;32m    222\u001b[0m \u001b[38;5;124;03m\"\"\"Fit Gaussian Naive Bayes according to X, y.\u001b[39;00m\n\u001b[0;32m    223\u001b[0m \n\u001b[0;32m    224\u001b[0m \u001b[38;5;124;03mParameters\u001b[39;00m\n\u001b[1;32m   (...)\u001b[0m\n\u001b[0;32m    242\u001b[0m \u001b[38;5;124;03m    Returns the instance itself.\u001b[39;00m\n\u001b[0;32m    243\u001b[0m \u001b[38;5;124;03m\"\"\"\u001b[39;00m\n\u001b[0;32m    244\u001b[0m y \u001b[38;5;241m=\u001b[39m \u001b[38;5;28mself\u001b[39m\u001b[38;5;241m.\u001b[39m_validate_data(y\u001b[38;5;241m=\u001b[39my)\n\u001b[1;32m--> 245\u001b[0m \u001b[38;5;28;01mreturn\u001b[39;00m \u001b[38;5;28;43mself\u001b[39;49m\u001b[38;5;241;43m.\u001b[39;49m\u001b[43m_partial_fit\u001b[49m\u001b[43m(\u001b[49m\n\u001b[0;32m    246\u001b[0m \u001b[43m    \u001b[49m\u001b[43mX\u001b[49m\u001b[43m,\u001b[49m\u001b[43m \u001b[49m\u001b[43my\u001b[49m\u001b[43m,\u001b[49m\u001b[43m \u001b[49m\u001b[43mnp\u001b[49m\u001b[38;5;241;43m.\u001b[39;49m\u001b[43munique\u001b[49m\u001b[43m(\u001b[49m\u001b[43my\u001b[49m\u001b[43m)\u001b[49m\u001b[43m,\u001b[49m\u001b[43m \u001b[49m\u001b[43m_refit\u001b[49m\u001b[38;5;241;43m=\u001b[39;49m\u001b[38;5;28;43;01mTrue\u001b[39;49;00m\u001b[43m,\u001b[49m\u001b[43m \u001b[49m\u001b[43msample_weight\u001b[49m\u001b[38;5;241;43m=\u001b[39;49m\u001b[43msample_weight\u001b[49m\n\u001b[0;32m    247\u001b[0m \u001b[43m\u001b[49m\u001b[43m)\u001b[49m\n",
      "File \u001b[1;32mD:\\1\\a3\\lib\\site-packages\\sklearn\\naive_bayes.py:401\u001b[0m, in \u001b[0;36mGaussianNB._partial_fit\u001b[1;34m(self, X, y, classes, _refit, sample_weight)\u001b[0m\n\u001b[0;32m    398\u001b[0m \u001b[38;5;28;01mif\u001b[39;00m _refit:\n\u001b[0;32m    399\u001b[0m     \u001b[38;5;28mself\u001b[39m\u001b[38;5;241m.\u001b[39mclasses_ \u001b[38;5;241m=\u001b[39m \u001b[38;5;28;01mNone\u001b[39;00m\n\u001b[1;32m--> 401\u001b[0m first_call \u001b[38;5;241m=\u001b[39m \u001b[43m_check_partial_fit_first_call\u001b[49m\u001b[43m(\u001b[49m\u001b[38;5;28;43mself\u001b[39;49m\u001b[43m,\u001b[49m\u001b[43m \u001b[49m\u001b[43mclasses\u001b[49m\u001b[43m)\u001b[49m\n\u001b[0;32m    402\u001b[0m X, y \u001b[38;5;241m=\u001b[39m \u001b[38;5;28mself\u001b[39m\u001b[38;5;241m.\u001b[39m_validate_data(X, y, reset\u001b[38;5;241m=\u001b[39mfirst_call)\n\u001b[0;32m    403\u001b[0m \u001b[38;5;28;01mif\u001b[39;00m sample_weight \u001b[38;5;129;01mis\u001b[39;00m \u001b[38;5;129;01mnot\u001b[39;00m \u001b[38;5;28;01mNone\u001b[39;00m:\n",
      "File \u001b[1;32mD:\\1\\a3\\lib\\site-packages\\sklearn\\utils\\multiclass.py:360\u001b[0m, in \u001b[0;36m_check_partial_fit_first_call\u001b[1;34m(clf, classes)\u001b[0m\n\u001b[0;32m    353\u001b[0m             \u001b[38;5;28;01mraise\u001b[39;00m \u001b[38;5;167;01mValueError\u001b[39;00m(\n\u001b[0;32m    354\u001b[0m                 \u001b[38;5;124m\"\u001b[39m\u001b[38;5;124m`classes=\u001b[39m\u001b[38;5;132;01m%r\u001b[39;00m\u001b[38;5;124m` is not the same as on last call \u001b[39m\u001b[38;5;124m\"\u001b[39m\n\u001b[0;32m    355\u001b[0m                 \u001b[38;5;124m\"\u001b[39m\u001b[38;5;124mto partial_fit, was: \u001b[39m\u001b[38;5;132;01m%r\u001b[39;00m\u001b[38;5;124m\"\u001b[39m \u001b[38;5;241m%\u001b[39m (classes, clf\u001b[38;5;241m.\u001b[39mclasses_)\n\u001b[0;32m    356\u001b[0m             )\n\u001b[0;32m    358\u001b[0m     \u001b[38;5;28;01melse\u001b[39;00m:\n\u001b[0;32m    359\u001b[0m         \u001b[38;5;66;03m# This is the first call to partial_fit\u001b[39;00m\n\u001b[1;32m--> 360\u001b[0m         clf\u001b[38;5;241m.\u001b[39mclasses_ \u001b[38;5;241m=\u001b[39m \u001b[43munique_labels\u001b[49m\u001b[43m(\u001b[49m\u001b[43mclasses\u001b[49m\u001b[43m)\u001b[49m\n\u001b[0;32m    361\u001b[0m         \u001b[38;5;28;01mreturn\u001b[39;00m \u001b[38;5;28;01mTrue\u001b[39;00m\n\u001b[0;32m    363\u001b[0m \u001b[38;5;66;03m# classes is None and clf.classes_ has already previously been set:\u001b[39;00m\n\u001b[0;32m    364\u001b[0m \u001b[38;5;66;03m# nothing to do\u001b[39;00m\n",
      "File \u001b[1;32mD:\\1\\a3\\lib\\site-packages\\sklearn\\utils\\multiclass.py:101\u001b[0m, in \u001b[0;36munique_labels\u001b[1;34m(*ys)\u001b[0m\n\u001b[0;32m     99\u001b[0m _unique_labels \u001b[38;5;241m=\u001b[39m _FN_UNIQUE_LABELS\u001b[38;5;241m.\u001b[39mget(label_type, \u001b[38;5;28;01mNone\u001b[39;00m)\n\u001b[0;32m    100\u001b[0m \u001b[38;5;28;01mif\u001b[39;00m \u001b[38;5;129;01mnot\u001b[39;00m _unique_labels:\n\u001b[1;32m--> 101\u001b[0m     \u001b[38;5;28;01mraise\u001b[39;00m \u001b[38;5;167;01mValueError\u001b[39;00m(\u001b[38;5;124m\"\u001b[39m\u001b[38;5;124mUnknown label type: \u001b[39m\u001b[38;5;132;01m%s\u001b[39;00m\u001b[38;5;124m\"\u001b[39m \u001b[38;5;241m%\u001b[39m \u001b[38;5;28mrepr\u001b[39m(ys))\n\u001b[0;32m    103\u001b[0m ys_labels \u001b[38;5;241m=\u001b[39m \u001b[38;5;28mset\u001b[39m(chain\u001b[38;5;241m.\u001b[39mfrom_iterable(_unique_labels(y) \u001b[38;5;28;01mfor\u001b[39;00m y \u001b[38;5;129;01min\u001b[39;00m ys))\n\u001b[0;32m    105\u001b[0m \u001b[38;5;66;03m# Check that we don't mix string type with number type\u001b[39;00m\n",
      "\u001b[1;31mValueError\u001b[0m: Unknown label type: (array([0.01732276, 0.07082236, 0.13654358, 0.16228901, 0.22994268,\n       0.38872522, 0.4182926 , 0.44371691, 0.55133097, 0.58701926,\n       0.69981302, 0.88327937, 0.98136406, 1.00112805, 1.03599474,\n       1.1435543 , 1.20523917, 1.25969634, 1.30995221, 1.35264649,\n       1.55405779, 1.67966476, 1.72422068, 1.75266045, 1.80764865,\n       1.81052283, 1.84100983, 1.89312588, 1.89951507, 2.02693487,\n       2.11998903, 2.16471666, 2.25303603, 2.31832737, 2.34901161,\n       2.35863442, 2.38671938, 2.42478898, 2.45935378, 2.49141101,\n       2.61918214, 2.63419711, 2.67859051, 2.68443688, 2.71657627,\n       2.75508259, 2.80440634, 2.84227399, 2.86966969, 2.90958197,\n       2.9493533 , 3.0186555 , 3.06850693, 3.17348642, 3.22833642,\n       3.24406636, 3.27476223, 3.35929574, 3.42198201, 3.46275141,\n       3.46787012, 3.54789217, 3.62580624, 3.63212651, 3.73294222,\n       3.73707311, 3.74842446, 3.83814651, 3.83883434, 3.84981877,\n       3.88226877, 3.89768304, 3.89856834, 3.91410867, 3.96249421,\n       4.00856601, 4.01821112, 4.09174453, 4.13139756, 4.14446291,\n       4.2040057 , 4.2252455 , 4.24028824, 4.28751763, 4.29031191,\n       4.33292562, 4.36372958, 4.37847903, 4.47376507, 4.51313625,\n       4.57274975, 4.58637171, 4.59333254, 4.5954424 , 4.66017749,\n       4.67982704, 4.74706038, 4.76313092, 4.77244695, 4.78691204,\n       4.83826272, 4.87578953, 4.995689  , 5.00877024, 5.03825671,\n       5.0809355 , 5.11898189, 5.12902372, 5.15783499, 5.16861429,\n       5.17259084, 5.20577975, 5.20780612, 5.26879223, 5.3027752 ,\n       5.32558351, 5.33877767, 5.40909946, 5.47460518, 5.47467907,\n       5.48236938, 5.49304197, 5.50811904, 5.51350788, 5.62471553,\n       5.70418848, 5.72952983, 5.74865797, 5.75045809, 5.80640068,\n       5.93201849, 5.93929374, 6.1407122 , 6.15742724, 6.16747797,\n       6.25316911, 6.31352369, 6.52970054, 6.77267007, 6.79220904,\n       6.86304626, 7.0840477 , 7.19834216, 7.23749501, 7.30293774,\n       7.31840431, 7.3443075 , 7.42631323, 7.56185068, 7.58478532]),)"
     ]
    }
   ],
   "source": [
    "# Train a Gaussian Naive Bayes Classifier\n",
    "from sklearn.naive_bayes import GaussianNB\n",
    "clf = GaussianNB()\n",
    "clf.fit(train_features, train_labels)\n",
    "clf.predict([4.8, 4.2])"
   ]
  },
  {
   "cell_type": "code",
   "execution_count": null,
   "metadata": {
    "slideshow": {
     "slide_type": "subslide"
    }
   },
   "outputs": [],
   "source": [
    "# Query the accuracy of the model with the test set\n",
    "accuracy = clf.score(test_features, test_labels)\n",
    "print(accuracy)"
   ]
  },
  {
   "cell_type": "code",
   "execution_count": null,
   "metadata": {
    "slideshow": {
     "slide_type": "subslide"
    }
   },
   "outputs": [],
   "source": [
    "# Another, more generic, way to calculate accuracy in scikit-learn\n",
    "from sklearn.metrics import accuracy_score\n",
    "print((accuracy_score(clf.predict(test_features), test_labels)))"
   ]
  },
  {
   "cell_type": "code",
   "execution_count": null,
   "metadata": {
    "slideshow": {
     "slide_type": "subslide"
    }
   },
   "outputs": [],
   "source": [
    "def plot_decision_surface(clf, features, labels, title):\n",
    "    x_min = 0.0; x_max = 8.0\n",
    "    y_min = 0.0; y_max = 8.0\n",
    "\n",
    "    # Plot the decision boundary. For that, we will assign a color to each\n",
    "    # point in the mesh [x_min, m_max]x[y_min, y_max].\n",
    "    h = .01  # step size in the mesh\n",
    "    xx, yy = np.meshgrid(np.arange(x_min, x_max, h), np.arange(y_min, y_max, h))\n",
    "    Z = clf.predict(np.c_[xx.ravel(), yy.ravel()])   \n",
    "    z_min, z_max = -np.abs(Z).max(), np.abs(Z).max()\n",
    "    \n",
    "    # set title\n",
    "    f, ax = plt.subplots()\n",
    "    ax.set_title(title)\n",
    "\n",
    "    # Put the result into a color plot\n",
    "    Z = Z.reshape(xx.shape)\n",
    "    plt.xlim(xx.min(), xx.max())\n",
    "    plt.ylim(yy.min(), yy.max())\n",
    "    plt.pcolormesh(xx, yy, Z, cmap='gray', vmin=.2, vmax=2.4)  # \n",
    "\n",
    "    # Plot the points\n",
    "    class_1_x = [features[ii][0] for ii in range(0, len(features)) if labels[ii]==1]\n",
    "    class_1_y = [features[ii][1] for ii in range(0, len(features)) if labels[ii]==1]\n",
    "    class_2_x = [features[ii][0] for ii in range(0, len(features)) if labels[ii]==2]\n",
    "    class_2_y = [features[ii][1] for ii in range(0, len(features)) if labels[ii]==2]\n",
    "\n",
    "    plt.scatter(class_1_x, class_1_y, color = '#F5CA0C', label=\"1\", s=40)\n",
    "    plt.scatter(class_2_x, class_2_y, color = '#00A99D', label=\"2\", s=40)\n",
    "   \n",
    "    plt.xlabel(\"feature_a\")\n",
    "    plt.ylabel(\"feature_b\")\n",
    "    plt.legend(('class 1', 'class 2'), frameon=True)\n",
    "    \n",
    "    \n",
    "# Plot the decision surface and data point for training and tests data\n",
    "plot_decision_surface(clf, train_features.values, train_labels.values, \n",
    "                      'Training data')\n",
    "plot_decision_surface(clf, test_features.values, test_labels.values,\n",
    "                      'Test data')"
   ]
  },
  {
   "cell_type": "markdown",
   "metadata": {
    "slideshow": {
     "slide_type": "slide"
    }
   },
   "source": [
    "### Done!\n",
    "\n",
    "#### Next: _Independent Events and Compound Probability_"
   ]
  }
 ],
 "metadata": {
  "celltoolbar": "Slideshow",
  "kernelspec": {
   "display_name": "Python 3 (ipykernel)",
   "language": "python",
   "name": "python3"
  },
  "language_info": {
   "codemirror_mode": {
    "name": "ipython",
    "version": 3
   },
   "file_extension": ".py",
   "mimetype": "text/x-python",
   "name": "python",
   "nbconvert_exporter": "python",
   "pygments_lexer": "ipython3",
   "version": "3.9.12"
  }
 },
 "nbformat": 4,
 "nbformat_minor": 1
}

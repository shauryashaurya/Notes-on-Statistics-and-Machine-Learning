{
 "cells": [
  {
   "cell_type": "markdown",
   "metadata": {},
   "source": []
  },
  {
   "cell_type": "markdown",
   "metadata": {},
   "source": []
  },
  {
   "cell_type": "markdown",
   "metadata": {},
   "source": []
  },
  {
   "cell_type": "code",
   "execution_count": 1,
   "metadata": {},
   "outputs": [],
   "source": [
    "import numpy as np"
   ]
  },
  {
   "cell_type": "markdown",
   "metadata": {},
   "source": [
    "## Linear System of Equations\n",
    "In Numpy there are a couple of handy functions for [solving equations and inverting matrices](http://docs.scipy.org/doc/numpy/reference/routines.linalg.html#solving-equations-and-inverting-matrices). Suppose we have the following three linear equations and we want to solve for $x$, $y$ and $z$:\n",
    "\n",
    "$$\n",
    "2x + y - 3z = 12\\\\\n",
    "x - 3y + z = 7\\\\\n",
    "4x + y - 2z = 4\n",
    "$$"
   ]
  },
  {
   "cell_type": "code",
   "execution_count": 2,
   "metadata": {},
   "outputs": [
    {
     "name": "stdout",
     "output_type": "stream",
     "text": [
      "[[ 2  1 -3]\n",
      " [ 1 -3  1]\n",
      " [ 4  1 -2]]\n"
     ]
    }
   ],
   "source": [
    "# Solve the system of equations \n",
    "#   2x+ y−3z = 12\n",
    "#    x−3y+ z = 7\n",
    "#   4x+ y−2z = 4\n",
    "\n",
    "a = np.matrix([[2, 1, -3], [1, -3, 1], [4, 1, -2]])\n",
    "b = np.matrix([[12], [7], [4]])\n",
    "\n",
    "print(a)"
   ]
  },
  {
   "cell_type": "code",
   "execution_count": 3,
   "metadata": {},
   "outputs": [
    {
     "data": {
      "text/plain": [
       "matrix([[-0.91304348],\n",
       "        [-4.69565217],\n",
       "        [-6.17391304]])"
      ]
     },
     "execution_count": 3,
     "metadata": {},
     "output_type": "execute_result"
    }
   ],
   "source": [
    "# We can solve by taking the inverse of matrix a times b\n",
    "a.I * b"
   ]
  },
  {
   "cell_type": "code",
   "execution_count": 4,
   "metadata": {},
   "outputs": [
    {
     "data": {
      "text/plain": [
       "matrix([[-0.91304348],\n",
       "        [-4.69565217],\n",
       "        [-6.17391304]])"
      ]
     },
     "execution_count": 4,
     "metadata": {},
     "output_type": "execute_result"
    }
   ],
   "source": [
    "# A Faster and more stable way of doing the same is\n",
    "# using the solve function\n",
    "s = np.linalg.solve(a, b)\n",
    "s"
   ]
  },
  {
   "cell_type": "code",
   "execution_count": 5,
   "metadata": {},
   "outputs": [
    {
     "name": "stdout",
     "output_type": "stream",
     "text": [
      "[[12.]]\n",
      "[[7.]]\n",
      "[[4.]]\n"
     ]
    }
   ],
   "source": [
    "# Check the solution\n",
    "x = s[0]\n",
    "y = s[1]\n",
    "z = s[2]\n",
    "\n",
    "print((2*x +   y - 3*z))\n",
    "print((  x - 3*y +   z))\n",
    "print((4*x +   y - 2*z))"
   ]
  },
  {
   "cell_type": "code",
   "execution_count": 6,
   "metadata": {},
   "outputs": [
    {
     "data": {
      "text/plain": [
       "True"
      ]
     },
     "execution_count": 6,
     "metadata": {},
     "output_type": "execute_result"
    }
   ],
   "source": [
    "# Check the solution by taking the dot product\n",
    "np.allclose(np.dot(a, s), b)"
   ]
  },
  {
   "cell_type": "markdown",
   "metadata": {},
   "source": [
    "### Done!\n",
    "\n",
    "#### Next: _Binary One-Hot Feature Extraction_"
   ]
  }
 ],
 "metadata": {
  "kernelspec": {
   "display_name": "Python 3 (ipykernel)",
   "language": "python",
   "name": "python3"
  },
  "language_info": {
   "codemirror_mode": {
    "name": "ipython",
    "version": 3
   },
   "file_extension": ".py",
   "mimetype": "text/x-python",
   "name": "python",
   "nbconvert_exporter": "python",
   "pygments_lexer": "ipython3",
   "version": "3.9.12"
  }
 },
 "nbformat": 4,
 "nbformat_minor": 1
}

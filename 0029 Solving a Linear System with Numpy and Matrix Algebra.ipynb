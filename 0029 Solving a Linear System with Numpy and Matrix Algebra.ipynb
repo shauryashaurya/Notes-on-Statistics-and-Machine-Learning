{
 "cells": [
  {
   "cell_type": "markdown",
   "metadata": {},
   "source": [
    "# 29 Solving a Linear System with Numpy and Matrix Algebra\n",
    "\n",
    "### ."
   ]
  },
  {
   "cell_type": "markdown",
   "metadata": {},
   "source": [
    "### Overview\n",
    "<span>\n",
    "    <table>\n",
    "        <tr><td>Linear System of Equations<td><tr>\n",
    "    <table>\n",
    "<span>"
   ]
  },
  {
   "cell_type": "markdown",
   "metadata": {},
   "source": [
    "### Setup"
   ]
  },
  {
   "cell_type": "code",
   "execution_count": 1,
   "metadata": {},
   "outputs": [],
   "source": [
    "import numpy as np"
   ]
  },
  {
   "cell_type": "markdown",
   "metadata": {},
   "source": [
    "## Linear System of Equations\n",
    "In Numpy there are a couple of handy functions for [solving equations and inverting matrices](http://docs.scipy.org/doc/numpy/reference/routines.linalg.html#solving-equations-and-inverting-matrices). Suppose we have the following three linear equations and we want to solve for $x$, $y$ and $z$:\n",
    "\n",
    "$$\n",
    "2x + y - 3z = 12\\\\\n",
    "x - 3y + z = 7\\\\\n",
    "4x + y - 2z = 4\n",
    "$$"
   ]
  },
  {
   "cell_type": "code",
   "execution_count": 2,
   "metadata": {},
   "outputs": [
    {
     "name": "stdout",
     "output_type": "stream",
     "text": [
      "[[ 2  1 -3]\n",
      " [ 1 -3  1]\n",
      " [ 4  1 -2]]\n"
     ]
    }
   ],
   "source": [
    "# Solve the system of equations \n",
    "#   2x+ y−3z = 12\n",
    "#    x−3y+ z = 7\n",
    "#   4x+ y−2z = 4\n",
    "\n",
    "a = np.matrix([[2, 1, -3], [1, -3, 1], [4, 1, -2]])\n",
    "b = np.matrix([[12], [7], [4]])\n",
    "\n",
    "print(a)"
   ]
  },
  {
   "cell_type": "code",
   "execution_count": 3,
   "metadata": {},
   "outputs": [
    {
     "data": {
      "text/plain": [
       "matrix([[-0.91304348],\n",
       "        [-4.69565217],\n",
       "        [-6.17391304]])"
      ]
     },
     "execution_count": 3,
     "metadata": {},
     "output_type": "execute_result"
    }
   ],
   "source": [
    "# We can solve by taking the inverse of matrix a times b\n",
    "a.I * b"
   ]
  },
  {
   "cell_type": "code",
   "execution_count": 4,
   "metadata": {},
   "outputs": [
    {
     "data": {
      "text/plain": [
       "matrix([[-0.91304348],\n",
       "        [-4.69565217],\n",
       "        [-6.17391304]])"
      ]
     },
     "execution_count": 4,
     "metadata": {},
     "output_type": "execute_result"
    }
   ],
   "source": [
    "# A Faster and more stable way of doing the same is\n",
    "# using the solve function\n",
    "s = np.linalg.solve(a, b)\n",
    "s"
   ]
  },
  {
   "cell_type": "code",
   "execution_count": 1,
   "metadata": {},
   "outputs": [
    {
     "ename": "NameError",
     "evalue": "name 's' is not defined",
     "output_type": "error",
     "traceback": [
      "\u001b[1;31m---------------------------------------------------------------------------\u001b[0m",
      "\u001b[1;31mNameError\u001b[0m                                 Traceback (most recent call last)",
      "Input \u001b[1;32mIn [1]\u001b[0m, in \u001b[0;36m<cell line: 2>\u001b[1;34m()\u001b[0m\n\u001b[0;32m      1\u001b[0m \u001b[38;5;66;03m### Setup# Check the solution\u001b[39;00m\n\u001b[1;32m----> 2\u001b[0m x \u001b[38;5;241m=\u001b[39m \u001b[43ms\u001b[49m[\u001b[38;5;241m0\u001b[39m]\n\u001b[0;32m      3\u001b[0m y \u001b[38;5;241m=\u001b[39m s[\u001b[38;5;241m1\u001b[39m]\n\u001b[0;32m      4\u001b[0m z \u001b[38;5;241m=\u001b[39m s[\u001b[38;5;241m2\u001b[39m]\n",
      "\u001b[1;31mNameError\u001b[0m: name 's' is not defined"
     ]
    }
   ],
   "source": [
    "### Setup# Check the solution\n",
    "x = s[0]\n",
    "y = s[1]\n",
    "z = s[2]\n",
    "\n",
    "print((2*x +   y - 3*z))\n",
    "print((  x - 3*y +   z))\n",
    "print((4*x +   y - 2*z))"
   ]
  },
  {
   "cell_type": "code",
   "execution_count": 6,
   "metadata": {},
   "outputs": [
    {
     "data": {
      "text/plain": [
       "True"
      ]
     },
     "execution_count": 6,
     "metadata": {},
     "output_type": "execute_result"
    }
   ],
   "source": [
    "# Check the solution by taking the dot product\n",
    "np.allclose(np.dot(a, s), b)"
   ]
  },
  {
   "cell_type": "markdown",
   "metadata": {},
   "source": [
    "### Done!\n",
    "\n",
    "#### Next: _Binary One-Hot Feature Extraction_"
   ]
  }
 ],
 "metadata": {
  "kernelspec": {
   "display_name": "Python 3 (ipykernel)",
   "language": "python",
   "name": "python3"
  },
  "language_info": {
   "codemirror_mode": {
    "name": "ipython",
    "version": 3
   },
   "file_extension": ".py",
   "mimetype": "text/x-python",
   "name": "python",
   "nbconvert_exporter": "python",
   "pygments_lexer": "ipython3",
   "version": "3.9.12"
  }
 },
 "nbformat": 4,
 "nbformat_minor": 1
}

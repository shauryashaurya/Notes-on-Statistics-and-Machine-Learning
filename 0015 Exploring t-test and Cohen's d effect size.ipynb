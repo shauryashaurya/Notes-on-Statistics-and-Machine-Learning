{
 "cells": [
  {
   "cell_type": "markdown",
   "metadata": {
    "slideshow": {
     "slide_type": "slide"
    }
   },
   "source": [
    "# 15 Exploring t-test and Cohen's d effect size\n",
    "\n",
    "### ."
   ]
  },
  {
   "cell_type": "markdown",
   "metadata": {
    "slideshow": {
     "slide_type": "subslide"
    }
   },
   "source": [
    "### Overview\n",
    "<span>\n",
    "    <table>\n",
    "        <tr><td>The Dataset<td><tr>\n",
    "        <tr><td>Hypothesis<td><tr>\n",
    "        <tr><td>The t-distribution<td><tr>\n",
    "        <tr><td>Effect of increased degrees of freedom<td><tr>\n",
    "        <tr><td>The one-sample t-test<td><tr>\n",
    "        <tr><td>Cohen's d effect size<td><tr>\n",
    "        <tr><td>Confidence interval<td><tr>\n",
    "    <table>\n",
    "<span>"
   ]
  },
  {
   "cell_type": "markdown",
   "metadata": {
    "slideshow": {
     "slide_type": "slide"
    }
   },
   "source": [
    "### Setup"
   ]
  },
  {
   "cell_type": "code",
   "execution_count": 1,
   "metadata": {
    "slideshow": {
     "slide_type": "subslide"
    }
   },
   "outputs": [
    {
     "data": {
      "text/plain": [
       "'1.21.5'"
      ]
     },
     "execution_count": 1,
     "metadata": {},
     "output_type": "execute_result"
    }
   ],
   "source": [
    "%matplotlib inline\n",
    "import numpy as np\n",
    "import pandas as pd\n",
    "import scipy\n",
    "import matplotlib.pyplot as plt\n",
    "import matplotlib.mlab as mlab\n",
    "import seaborn as sns\n",
    "from scipy import stats\n",
    "import math\n",
    "from __future__ import division\n",
    "\n",
    "# turn of data table rendering\n",
    "pd.set_option('display.notebook_repr_html', False)\n",
    "\n",
    "sns.set_palette(['#00A99D', '#F5CA0C', '#B6129F', '#76620C', '#095C57'])\n",
    "fill_color = '#F5CA0C'\n",
    "np.version.full_version"
   ]
  },
  {
   "cell_type": "markdown",
   "metadata": {
    "slideshow": {
     "slide_type": "slide"
    }
   },
   "source": [
    "## Data\n",
    "In the example we take a random sample of 25 housing prices in our neighbourhood and compare them against the average price of a house in the whole country."
   ]
  },
  {
   "cell_type": "code",
   "execution_count": 2,
   "metadata": {
    "slideshow": {
     "slide_type": "subslide"
    }
   },
   "outputs": [
    {
     "data": {
      "text/plain": [
       "0    319711.0\n",
       "1    289066.0\n",
       "2    212512.0\n",
       "3    195347.0\n",
       "4    245589.0\n",
       "dtype: float64"
      ]
     },
     "execution_count": 2,
     "metadata": {},
     "output_type": "execute_result"
    }
   ],
   "source": [
    "# data = np.random.random_sample(25) * 360000 + 100000 / floor it\n",
    "housing_prices = pd.Series(\n",
    "    [319711.,  289066.,  212512.,  195347.,  245589.,  418577., \n",
    "     301112.,  327251.,  434408.,  224529.,  450276.,  423406.,\n",
    "     230321.,  275374.,  215945.,  209971.,  322661.,  292517.,\n",
    "     378317.,  194028.,  347261.,  104542.,  231457.,  335174.,  \n",
    "     369656.])\n",
    "housing_prices.head()"
   ]
  },
  {
   "cell_type": "code",
   "execution_count": 3,
   "metadata": {
    "slideshow": {
     "slide_type": "subslide"
    }
   },
   "outputs": [
    {
     "name": "stderr",
     "output_type": "stream",
     "text": [
      "D:\\1\\a3\\lib\\site-packages\\seaborn\\distributions.py:2619: FutureWarning: `distplot` is a deprecated function and will be removed in a future version. Please adapt your code to use either `displot` (a figure-level function with similar flexibility) or `histplot` (an axes-level function for histograms).\n",
      "  warnings.warn(msg, FutureWarning)\n"
     ]
    },
    {
     "data": {
      "image/png": "[encoded data removed]",
      "text/plain": [
       "<Figure size 432x288 with 1 Axes>"
      ]
     },
     "metadata": {
      "needs_background": "light"
     },
     "output_type": "display_data"
    }
   ],
   "source": [
    "sns.distplot(housing_prices)\n",
    "plt.show()"
   ]
  },
  {
   "cell_type": "markdown",
   "metadata": {
    "slideshow": {
     "slide_type": "slide"
    }
   },
   "source": [
    "## Hypothesis\n",
    "We want to know if there is a significant difference in the mean housing price, compared to the average price of a house in our country. The latter has a mean of $\\mu=289.100$. We choose as our test criterium an alpha level of 5%. So our hypothesis states:\n",
    "\n",
    "|Hypothesis||$\\alpha = .05$|\n",
    "|---:|:---:|---|:---|\n",
    "|$H_0:$|$\\bar{x} = \\mu$|There is no significant difference in mean housing price|\n",
    "|$H_a:$|$\\bar{x} \\neq \\mu$|There is a significant difference in the mean housing price|\n"
   ]
  },
  {
   "cell_type": "code",
   "execution_count": 4,
   "metadata": {
    "slideshow": {
     "slide_type": "subslide"
    }
   },
   "outputs": [
    {
     "data": {
      "text/plain": [
       "289100.0"
      ]
     },
     "execution_count": 4,
     "metadata": {},
     "output_type": "execute_result"
    }
   ],
   "source": [
    "# The mean housing price is a given\n",
    "mu = 289100.\n",
    "mu"
   ]
  },
  {
   "cell_type": "code",
   "execution_count": 5,
   "metadata": {
    "slideshow": {
     "slide_type": "subslide"
    }
   },
   "outputs": [
    {
     "data": {
      "text/plain": [
       "(25, 293960.32, 88348.43221383916)"
      ]
     },
     "execution_count": 5,
     "metadata": {},
     "output_type": "execute_result"
    }
   ],
   "source": [
    "# The sample statistics\n",
    "n = housing_prices.count()\n",
    "xbar = housing_prices.mean()\n",
    "s = housing_prices.std(ddof=1)\n",
    "n, xbar, s"
   ]
  },
  {
   "cell_type": "code",
   "execution_count": 6,
   "metadata": {
    "slideshow": {
     "slide_type": "subslide"
    }
   },
   "outputs": [
    {
     "data": {
      "text/plain": [
       "4860.320000000007"
      ]
     },
     "execution_count": 6,
     "metadata": {},
     "output_type": "execute_result"
    }
   ],
   "source": [
    "# Show the mean difference\n",
    "xbar - mu"
   ]
  },
  {
   "cell_type": "markdown",
   "metadata": {
    "slideshow": {
     "slide_type": "subslide"
    }
   },
   "source": [
    "It looks like the housing prices in our neighbourhood are slightly higher than the average price of a house in the whole country. But is a  4860.32 difference significant? "
   ]
  },
  {
   "cell_type": "markdown",
   "metadata": {
    "slideshow": {
     "slide_type": "slide"
    }
   },
   "source": [
    "## The t-distribution\n",
    "Since we don't know the standard deviation of the population, we can't use the the standard normal distribution to perform our hypothesis test. If we don't know this population parameter we us the t-distribution. The shape of the t-distribution is closely related to the degress of freedom we have in the dataset. For a series (like we have here) this is $n-1$. Below a plot of the difference in shape from the normal distribution."
   ]
  },
  {
   "cell_type": "code",
   "execution_count": 7,
   "metadata": {
    "slideshow": {
     "slide_type": "subslide"
    }
   },
   "outputs": [
    {
     "data": {
      "image/png": "[encoded data removed]",
      "text/plain": [
       "<Figure size 432x288 with 1 Axes>"
      ]
     },
     "metadata": {
      "needs_background": "light"
     },
     "output_type": "display_data"
    }
   ],
   "source": [
    "# Plot the normal distribution\n",
    "samples = 100\n",
    "dof = 2\n",
    "x_plot = np.linspace(-4, 4, samples)\n",
    "y_plot = stats.norm.pdf(x_plot, 0, 1)\n",
    "plt.plot(x_plot, y_plot)\n",
    "\n",
    "x_plot = np.linspace(-4, 4, samples)\n",
    "y_plot = stats.t.pdf(x_plot, dof)\n",
    "plt.plot(x_plot, y_plot)\n",
    "\n",
    "# Show legend\n",
    "plt.legend(['normal distribution', 't-distribution (df=2)'])\n",
    "plt.show()"
   ]
  },
  {
   "cell_type": "markdown",
   "metadata": {
    "slideshow": {
     "slide_type": "slide"
    }
   },
   "source": [
    "## Effect of increased degrees of freedom\n",
    "The t-distribution tends to grow towards the normal distribution when the degrees of freedom increase. If we have a sample size bigger than $n=30$, the differences between the t and normal distribution are very small. Below a projection of the effect on the t-distribution while increasing the degrees of freedom from 1, 4, 14 to 29."
   ]
  },
  {
   "cell_type": "code",
   "execution_count": 8,
   "metadata": {
    "slideshow": {
     "slide_type": "subslide"
    }
   },
   "outputs": [
    {
     "data": {
      "image/png": "[encoded data removed]",
      "text/plain": [
       "<Figure size 432x288 with 4 Axes>"
      ]
     },
     "metadata": {
      "needs_background": "light"
     },
     "output_type": "display_data"
    }
   ],
   "source": [
    "f, (ax1, ax2) = plt.subplots(2, 2, sharex=True)\n",
    "axes = [ax1[0], ax1[1], ax2[0], ax2[1]]\n",
    "ax = 0\n",
    "\n",
    "samples = 100\n",
    "degrees_of_freedom = [1, 4, 14, 29]\n",
    "\n",
    "for dof in degrees_of_freedom:\n",
    "    x_plot = np.linspace(-4, 4, samples)\n",
    "    y_plot = stats.norm.pdf(x_plot, 0, 1)\n",
    "    axes[ax].plot(x_plot, y_plot)\n",
    "\n",
    "    y_fill = stats.t.pdf(x_plot, dof)\n",
    "    axes[ax].fill_between(x_plot,  y_fill, alpha=.5, facecolor=fill_color) \n",
    "    \n",
    "    y_plot = stats.t.pdf(x_plot, dof)\n",
    "    axes[ax].plot(x_plot, y_plot)\n",
    "    axes[ax].set_xlabel('dof=' + str(dof))\n",
    "    \n",
    "    ax += 1  \n",
    "    \n",
    "axes[1].legend(['normal', 't-dist'])\n",
    "plt.show()"
   ]
  },
  {
   "cell_type": "markdown",
   "metadata": {
    "slideshow": {
     "slide_type": "slide"
    }
   },
   "source": [
    "## The one-sample t-test\n",
    "Let's find out what out t-statistic related to our sample mean. We use the follwing formula:\n",
    "\n",
    "$$t=\\frac{\\bar{x}-\\mu}{s\\cdot\\sqrt{n}}$$"
   ]
  },
  {
   "cell_type": "code",
   "execution_count": 9,
   "metadata": {
    "slideshow": {
     "slide_type": "subslide"
    }
   },
   "outputs": [
    {
     "data": {
      "text/plain": [
       "0.2750654356964737"
      ]
     },
     "execution_count": 9,
     "metadata": {},
     "output_type": "execute_result"
    }
   ],
   "source": [
    "# Calculate the t-statistic for the sample mean\n",
    "se = s / math.sqrt(n)\n",
    "t_statistic = (xbar - mu) / se\n",
    "t_statistic"
   ]
  },
  {
   "cell_type": "code",
   "execution_count": 10,
   "metadata": {
    "slideshow": {
     "slide_type": "subslide"
    }
   },
   "outputs": [
    {
     "data": {
      "text/plain": [
       "0.7852162672614891"
      ]
     },
     "execution_count": 10,
     "metadata": {},
     "output_type": "execute_result"
    }
   ],
   "source": [
    "# What is the probability of getting this mean?\n",
    "p = stats.t.sf(t_statistic, dof) * 2. # two-sided test \n",
    "p"
   ]
  },
  {
   "cell_type": "code",
   "execution_count": 11,
   "metadata": {
    "slideshow": {
     "slide_type": "subslide"
    }
   },
   "outputs": [
    {
     "data": {
      "text/plain": [
       "False"
      ]
     },
     "execution_count": 11,
     "metadata": {},
     "output_type": "execute_result"
    }
   ],
   "source": [
    "# To test our alternative hypothesis\n",
    "alpha = .05\n",
    "p < alpha / 2 #two sided"
   ]
  },
  {
   "cell_type": "markdown",
   "metadata": {
    "slideshow": {
     "slide_type": "subslide"
    }
   },
   "source": [
    "So we fail to reject the null hypothesis. A mean difference of 4860.32 in housing prices between our neigbourhood and the whole country is not significant."
   ]
  },
  {
   "cell_type": "code",
   "execution_count": 12,
   "metadata": {
    "slideshow": {
     "slide_type": "subslide"
    }
   },
   "outputs": [
    {
     "data": {
      "text/plain": [
       "(0.2750654356964736, 0.7856201417078766)"
      ]
     },
     "execution_count": 12,
     "metadata": {},
     "output_type": "execute_result"
    }
   ],
   "source": [
    "# To perform a t-test more quickly, we can use scipy.stats ttest_1samp\n",
    "# for a one-sample t-test. The function returns the t-statistic and \n",
    "# the p-value in one single call. Slightly different results, but close\n",
    "t_statistic, p = stats.ttest_1samp(housing_prices, mu)\n",
    "t_statistic, p"
   ]
  },
  {
   "cell_type": "markdown",
   "metadata": {
    "slideshow": {
     "slide_type": "slide"
    }
   },
   "source": [
    "## Cohen's d effect size\n",
    "Cohen's d is an effect size measure. According to Wikipedia, in statistics, an [effect size](http://en.wikipedia.org/wiki/Effect_size) is a quantitative measure of the strength of a phenomenon. Cohen's d is the standardized mean difference that measures the distance between two means in standard units (standard deviations). The larger the result (positive or negative), the larger the effect. Rule of thumb; small (0.2), medium (0.5) and large (0.8). Click the link to see a great interactive visualization on [Interpreting Cohen's d effect size](http://rpsychologist.com/d3/cohend/). The formula for Cohen's d is as follows:"
   ]
  },
  {
   "cell_type": "markdown",
   "metadata": {
    "slideshow": {
     "slide_type": "subslide"
    }
   },
   "source": [
    "\n",
    "$$Cohen's\\ d=\\frac{\\bar{x}-\\mu}{s}$$"
   ]
  },
  {
   "cell_type": "code",
   "execution_count": 13,
   "metadata": {
    "slideshow": {
     "slide_type": "subslide"
    }
   },
   "outputs": [
    {
     "data": {
      "text/plain": [
       "0.05501308713929473"
      ]
     },
     "execution_count": 13,
     "metadata": {},
     "output_type": "execute_result"
    }
   ],
   "source": [
    "# Calculate Cohen's d\n",
    "d = (xbar - mu) / s\n",
    "d"
   ]
  },
  {
   "cell_type": "markdown",
   "metadata": {
    "slideshow": {
     "slide_type": "subslide"
    }
   },
   "source": [
    "This is a very small effect, acording to our rule of thumb stated above. The two mean are only 0.055 standard deviations apart."
   ]
  },
  {
   "cell_type": "markdown",
   "metadata": {
    "slideshow": {
     "slide_type": "slide"
    }
   },
   "source": [
    "## Confidence interval\n",
    "In addition to our test result, we want to calculate an interval in which our population parameter will probably lie. In this case the true average housing price in our neighbourhood. With the t-statistic we just calculated, we can calculate a 95% confidence interval."
   ]
  },
  {
   "cell_type": "code",
   "execution_count": 14,
   "metadata": {
    "slideshow": {
     "slide_type": "subslide"
    }
   },
   "outputs": [
    {
     "data": {
      "text/plain": [
       "(257491.87956635334, 330428.7604336467)"
      ]
     },
     "execution_count": 14,
     "metadata": {},
     "output_type": "execute_result"
    }
   ],
   "source": [
    "# Calculate the 95% confidence interval\n",
    "dof = n - 1\n",
    "t_critical = abs(stats.t.ppf(alpha / 2, dof)) # two sided\n",
    "margin_of_error = t_critical * se\n",
    "\n",
    "CI_lower =  xbar - margin_of_error\n",
    "CI_upper =  xbar + margin_of_error\n",
    "CI_lower, CI_upper"
   ]
  },
  {
   "cell_type": "markdown",
   "metadata": {
    "slideshow": {
     "slide_type": "subslide"
    }
   },
   "source": [
    "This means that we are for 95% certain that the true mean housing price in our neighborhood lies between 257.491 and 330.428."
   ]
  },
  {
   "cell_type": "markdown",
   "metadata": {
    "slideshow": {
     "slide_type": "slide"
    }
   },
   "source": [
    "### Done!\n",
    "\n",
    "#### Next: _Paired Samples t-Test_"
   ]
  }
 ],
 "metadata": {
  "celltoolbar": "Slideshow",
  "kernelspec": {
   "display_name": "Python 3 (ipykernel)",
   "language": "python",
   "name": "python3"
  },
  "language_info": {
   "codemirror_mode": {
    "name": "ipython",
    "version": 3
   },
   "file_extension": ".py",
   "mimetype": "text/x-python",
   "name": "python",
   "nbconvert_exporter": "python",
   "pygments_lexer": "ipython3",
   "version": "3.9.12"
  }
 },
 "nbformat": 4,
 "nbformat_minor": 1
}

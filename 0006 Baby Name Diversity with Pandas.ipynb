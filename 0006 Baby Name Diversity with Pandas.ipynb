{
 "cells": [
  {
   "cell_type": "markdown",
   "metadata": {
    "slideshow": {
     "slide_type": "slide"
    }
   },
   "source": [
    "# 06 Diversity in Baby Names \n",
    "\n",
    "### A Quick Pandas Exercise "
   ]
  },
  {
   "cell_type": "markdown",
   "metadata": {
    "slideshow": {
     "slide_type": "subslide"
    }
   },
   "source": [
    "### Overview\n",
    "<span>\n",
    "    <table>\n",
    "        <tr><td>Import the dataset<td><tr>\n",
    "        <tr><td>Explore the dataset<td><tr>\n",
    "        <tr><td>Calculate Diversity<td><tr>\n",
    "    <table>\n",
    "<span>"
   ]
  },
  {
   "cell_type": "markdown",
   "metadata": {
    "slideshow": {
     "slide_type": "slide"
    }
   },
   "source": [
    "### Setup"
   ]
  },
  {
   "cell_type": "code",
   "execution_count": 1,
   "metadata": {
    "slideshow": {
     "slide_type": "subslide"
    }
   },
   "outputs": [
    {
     "data": {
      "text/plain": [
       "'1.4.2'"
      ]
     },
     "execution_count": 1,
     "metadata": {},
     "output_type": "execute_result"
    }
   ],
   "source": [
    "# importing numpy and pandas\n",
    "import numpy as np\n",
    "import pandas as pd\n",
    "# matplotlib - for graphs etc.\n",
    "import matplotlib.pyplot as plt\n",
    "# Some HTML manipulation - to make graphs etc. size correctly\n",
    "from IPython.display import display, HTML\n",
    "\n",
    "# turn on data table rendering\n",
    "pd.set_option('display.notebook_repr_html', True)\n",
    "plt.style.use('ggplot')\n",
    "pd.__version__"
   ]
  },
  {
   "cell_type": "markdown",
   "metadata": {
    "slideshow": {
     "slide_type": "subslide"
    }
   },
   "source": [
    "Use svg format instead of bitmap when mainly plotting line charts:"
   ]
  },
  {
   "cell_type": "code",
   "execution_count": 2,
   "metadata": {
    "slideshow": {
     "slide_type": "fragment"
    }
   },
   "outputs": [],
   "source": [
    "%config InlineBackend.figure_format = 'svg'\n",
    "# %matplotlib inline\n",
    "\n",
    "# using [ipympl](https://github.com/matplotlib/ipympl) here\n",
    "%matplotlib widget\n",
    "\n",
    "# the notebook magic renders single plot at a time - need to work out a solution\n",
    "# using the inline magic in lieu\n",
    "# %matplotlib notebook"
   ]
  },
  {
   "cell_type": "markdown",
   "metadata": {
    "slideshow": {
     "slide_type": "subslide"
    }
   },
   "source": [
    "Force the plot to be the correct size (x% width, y% height):"
   ]
  },
  {
   "cell_type": "code",
   "execution_count": 3,
   "metadata": {
    "slideshow": {
     "slide_type": "skip"
    }
   },
   "outputs": [],
   "source": [
    "# add the following if you need to set the height too...\n",
    "# height: 75% !important;"
   ]
  },
  {
   "cell_type": "code",
   "execution_count": 4,
   "metadata": {
    "slideshow": {
     "slide_type": "fragment"
    }
   },
   "outputs": [
    {
     "data": {
      "text/html": [
       "<style>\n",
       ".output_svg div{\n",
       "  width: 85% !important;\n",
       "}\n",
       "</style>\n"
      ],
      "text/plain": [
       "<IPython.core.display.HTML object>"
      ]
     },
     "metadata": {},
     "output_type": "display_data"
    }
   ],
   "source": [
    "%%html\n",
    "<style>\n",
    ".output_svg div{\n",
    "  width: 85% !important;\n",
    "}\n",
    "</style>\n"
   ]
  },
  {
   "cell_type": "markdown",
   "metadata": {
    "slideshow": {
     "slide_type": "slide"
    }
   },
   "source": [
    "## Data"
   ]
  },
  {
   "cell_type": "code",
   "execution_count": 5,
   "metadata": {
    "scrolled": true,
    "slideshow": {
     "slide_type": "subslide"
    }
   },
   "outputs": [
    {
     "data": {
      "text/html": [
       "<div>\n",
       "<style scoped>\n",
       "    .dataframe tbody tr th:only-of-type {\n",
       "        vertical-align: middle;\n",
       "    }\n",
       "\n",
       "    .dataframe tbody tr th {\n",
       "        vertical-align: top;\n",
       "    }\n",
       "\n",
       "    .dataframe thead th {\n",
       "        text-align: right;\n",
       "    }\n",
       "</style>\n",
       "<table border=\"1\" class=\"dataframe\">\n",
       "  <thead>\n",
       "    <tr style=\"text-align: right;\">\n",
       "      <th></th>\n",
       "      <th>year</th>\n",
       "      <th>name</th>\n",
       "      <th>prop</th>\n",
       "      <th>sex</th>\n",
       "      <th>soundex</th>\n",
       "    </tr>\n",
       "  </thead>\n",
       "  <tbody>\n",
       "    <tr>\n",
       "      <th>0</th>\n",
       "      <td>1880</td>\n",
       "      <td>John</td>\n",
       "      <td>0.081541</td>\n",
       "      <td>boy</td>\n",
       "      <td>J500</td>\n",
       "    </tr>\n",
       "    <tr>\n",
       "      <th>1</th>\n",
       "      <td>1880</td>\n",
       "      <td>William</td>\n",
       "      <td>0.080511</td>\n",
       "      <td>boy</td>\n",
       "      <td>W450</td>\n",
       "    </tr>\n",
       "    <tr>\n",
       "      <th>2</th>\n",
       "      <td>1880</td>\n",
       "      <td>James</td>\n",
       "      <td>0.050057</td>\n",
       "      <td>boy</td>\n",
       "      <td>J520</td>\n",
       "    </tr>\n",
       "    <tr>\n",
       "      <th>3</th>\n",
       "      <td>1880</td>\n",
       "      <td>Charles</td>\n",
       "      <td>0.045167</td>\n",
       "      <td>boy</td>\n",
       "      <td>C642</td>\n",
       "    </tr>\n",
       "    <tr>\n",
       "      <th>4</th>\n",
       "      <td>1880</td>\n",
       "      <td>George</td>\n",
       "      <td>0.043292</td>\n",
       "      <td>boy</td>\n",
       "      <td>G620</td>\n",
       "    </tr>\n",
       "  </tbody>\n",
       "</table>\n",
       "</div>"
      ],
      "text/plain": [
       "   year     name      prop  sex soundex\n",
       "0  1880     John  0.081541  boy    J500\n",
       "1  1880  William  0.080511  boy    W450\n",
       "2  1880    James  0.050057  boy    J520\n",
       "3  1880  Charles  0.045167  boy    C642\n",
       "4  1880   George  0.043292  boy    G620"
      ]
     },
     "execution_count": 5,
     "metadata": {},
     "output_type": "execute_result"
    }
   ],
   "source": [
    "# The data set contains the top 1000 baby names in the US\n",
    "# for each year from 1880 until 2008\n",
    "names_df = pd.read_csv('data/baby-names2.csv')\n",
    "names_df.head()"
   ]
  },
  {
   "cell_type": "markdown",
   "metadata": {
    "slideshow": {
     "slide_type": "fragment"
    }
   },
   "source": [
    "Note: [Soundex](https://en.wikipedia.org/wiki/Soundex) is a phonetic algorithm for indexing names by sound, as pronounced in English. "
   ]
  },
  {
   "cell_type": "markdown",
   "metadata": {
    "slideshow": {
     "slide_type": "slide"
    }
   },
   "source": [
    "## Explore the data"
   ]
  },
  {
   "cell_type": "code",
   "execution_count": 6,
   "metadata": {
    "slideshow": {
     "slide_type": "subslide"
    }
   },
   "outputs": [
    {
     "data": {
      "text/html": [
       "<div>\n",
       "<style scoped>\n",
       "    .dataframe tbody tr th:only-of-type {\n",
       "        vertical-align: middle;\n",
       "    }\n",
       "\n",
       "    .dataframe tbody tr th {\n",
       "        vertical-align: top;\n",
       "    }\n",
       "\n",
       "    .dataframe thead th {\n",
       "        text-align: right;\n",
       "    }\n",
       "</style>\n",
       "<table border=\"1\" class=\"dataframe\">\n",
       "  <thead>\n",
       "    <tr style=\"text-align: right;\">\n",
       "      <th></th>\n",
       "      <th>year</th>\n",
       "      <th>name</th>\n",
       "      <th>prop</th>\n",
       "      <th>sex</th>\n",
       "      <th>soundex</th>\n",
       "    </tr>\n",
       "  </thead>\n",
       "  <tbody>\n",
       "    <tr>\n",
       "      <th>218995</th>\n",
       "      <td>1969</td>\n",
       "      <td>Josefina</td>\n",
       "      <td>0.000067</td>\n",
       "      <td>girl</td>\n",
       "      <td>J215</td>\n",
       "    </tr>\n",
       "    <tr>\n",
       "      <th>218996</th>\n",
       "      <td>1969</td>\n",
       "      <td>Marisela</td>\n",
       "      <td>0.000067</td>\n",
       "      <td>girl</td>\n",
       "      <td>M624</td>\n",
       "    </tr>\n",
       "    <tr>\n",
       "      <th>218997</th>\n",
       "      <td>1969</td>\n",
       "      <td>Sallie</td>\n",
       "      <td>0.000067</td>\n",
       "      <td>girl</td>\n",
       "      <td>S400</td>\n",
       "    </tr>\n",
       "    <tr>\n",
       "      <th>218998</th>\n",
       "      <td>1969</td>\n",
       "      <td>Suzan</td>\n",
       "      <td>0.000067</td>\n",
       "      <td>girl</td>\n",
       "      <td>S250</td>\n",
       "    </tr>\n",
       "    <tr>\n",
       "      <th>218999</th>\n",
       "      <td>1969</td>\n",
       "      <td>Francisca</td>\n",
       "      <td>0.000066</td>\n",
       "      <td>girl</td>\n",
       "      <td>F652</td>\n",
       "    </tr>\n",
       "  </tbody>\n",
       "</table>\n",
       "</div>"
      ],
      "text/plain": [
       "        year       name      prop   sex soundex\n",
       "218995  1969   Josefina  0.000067  girl    J215\n",
       "218996  1969   Marisela  0.000067  girl    M624\n",
       "218997  1969     Sallie  0.000067  girl    S400\n",
       "218998  1969      Suzan  0.000067  girl    S250\n",
       "218999  1969  Francisca  0.000066  girl    F652"
      ]
     },
     "execution_count": 6,
     "metadata": {},
     "output_type": "execute_result"
    }
   ],
   "source": [
    "# Get popular names for 1969\n",
    "names_df[names_df.year == 1969].tail()"
   ]
  },
  {
   "cell_type": "code",
   "execution_count": 7,
   "metadata": {
    "slideshow": {
     "slide_type": "subslide"
    }
   },
   "outputs": [
    {
     "data": {
      "text/html": [
       "<div>\n",
       "<style scoped>\n",
       "    .dataframe tbody tr th:only-of-type {\n",
       "        vertical-align: middle;\n",
       "    }\n",
       "\n",
       "    .dataframe tbody tr th {\n",
       "        vertical-align: top;\n",
       "    }\n",
       "\n",
       "    .dataframe thead th {\n",
       "        text-align: right;\n",
       "    }\n",
       "</style>\n",
       "<table border=\"1\" class=\"dataframe\">\n",
       "  <thead>\n",
       "    <tr style=\"text-align: right;\">\n",
       "      <th></th>\n",
       "      <th>year</th>\n",
       "      <th>name</th>\n",
       "      <th>prop</th>\n",
       "      <th>sex</th>\n",
       "      <th>soundex</th>\n",
       "    </tr>\n",
       "  </thead>\n",
       "  <tbody>\n",
       "    <tr>\n",
       "      <th>129000</th>\n",
       "      <td>1880</td>\n",
       "      <td>Mary</td>\n",
       "      <td>0.072381</td>\n",
       "      <td>girl</td>\n",
       "      <td>M600</td>\n",
       "    </tr>\n",
       "    <tr>\n",
       "      <th>129001</th>\n",
       "      <td>1880</td>\n",
       "      <td>Anna</td>\n",
       "      <td>0.026678</td>\n",
       "      <td>girl</td>\n",
       "      <td>A500</td>\n",
       "    </tr>\n",
       "    <tr>\n",
       "      <th>129002</th>\n",
       "      <td>1880</td>\n",
       "      <td>Emma</td>\n",
       "      <td>0.020521</td>\n",
       "      <td>girl</td>\n",
       "      <td>E500</td>\n",
       "    </tr>\n",
       "    <tr>\n",
       "      <th>129003</th>\n",
       "      <td>1880</td>\n",
       "      <td>Elizabeth</td>\n",
       "      <td>0.019865</td>\n",
       "      <td>girl</td>\n",
       "      <td>E421</td>\n",
       "    </tr>\n",
       "    <tr>\n",
       "      <th>129004</th>\n",
       "      <td>1880</td>\n",
       "      <td>Minnie</td>\n",
       "      <td>0.017888</td>\n",
       "      <td>girl</td>\n",
       "      <td>M500</td>\n",
       "    </tr>\n",
       "  </tbody>\n",
       "</table>\n",
       "</div>"
      ],
      "text/plain": [
       "        year       name      prop   sex soundex\n",
       "129000  1880       Mary  0.072381  girl    M600\n",
       "129001  1880       Anna  0.026678  girl    A500\n",
       "129002  1880       Emma  0.020521  girl    E500\n",
       "129003  1880  Elizabeth  0.019865  girl    E421\n",
       "129004  1880     Minnie  0.017888  girl    M500"
      ]
     },
     "execution_count": 7,
     "metadata": {},
     "output_type": "execute_result"
    }
   ],
   "source": [
    "# Separate the boys from the girls\n",
    "boys_df = names_df[names_df.sex == 'boy']\n",
    "girls_df = names_df[names_df.sex == 'girl']\n",
    "girls_df.head()"
   ]
  },
  {
   "cell_type": "code",
   "execution_count": 8,
   "metadata": {
    "slideshow": {
     "slide_type": "subslide"
    }
   },
   "outputs": [
    {
     "data": {
      "text/plain": [
       "year\n",
       "1880    1000\n",
       "1881    1000\n",
       "1882    1000\n",
       "1883    1000\n",
       "1884    1000\n",
       "dtype: int64"
      ]
     },
     "execution_count": 8,
     "metadata": {},
     "output_type": "execute_result"
    }
   ],
   "source": [
    "# Get the number of boy baby name rows per year (showing first 5) \n",
    "boys_df.groupby('year').size().head()"
   ]
  },
  {
   "cell_type": "code",
   "execution_count": 9,
   "metadata": {
    "slideshow": {
     "slide_type": "subslide"
    }
   },
   "outputs": [
    {
     "data": {
      "text/plain": [
       "sex\n",
       "boy     1000\n",
       "girl    1000\n",
       "dtype: int64"
      ]
     },
     "execution_count": 9,
     "metadata": {},
     "output_type": "execute_result"
    }
   ],
   "source": [
    "# Get the hierarchical index of baby name rows per year \n",
    "# grouped by gender for the year 1969\n",
    "names_df.groupby(['year', 'sex']).size().loc[1969]"
   ]
  },
  {
   "cell_type": "code",
   "execution_count": 10,
   "metadata": {
    "slideshow": {
     "slide_type": "subslide"
    }
   },
   "outputs": [
    {
     "data": {
      "text/plain": [
       "year           1969\n",
       "name        Michael\n",
       "prop       0.046564\n",
       "sex             boy\n",
       "soundex        M240\n",
       "Name: 89000, dtype: object"
      ]
     },
     "execution_count": 10,
     "metadata": {},
     "output_type": "execute_result"
    }
   ],
   "source": [
    "# Get the most popular boy name for the year 1969\n",
    "rowid = boys_df[boys_df.year == 1969].prop.idxmax()\n",
    "boys_df.loc[rowid]"
   ]
  },
  {
   "cell_type": "code",
   "execution_count": 11,
   "metadata": {
    "slideshow": {
     "slide_type": "subslide"
    }
   },
   "outputs": [
    {
     "data": {
      "text/html": [
       "<div>\n",
       "<style scoped>\n",
       "    .dataframe tbody tr th:only-of-type {\n",
       "        vertical-align: middle;\n",
       "    }\n",
       "\n",
       "    .dataframe tbody tr th {\n",
       "        vertical-align: top;\n",
       "    }\n",
       "\n",
       "    .dataframe thead th {\n",
       "        text-align: right;\n",
       "    }\n",
       "</style>\n",
       "<table border=\"1\" class=\"dataframe\">\n",
       "  <thead>\n",
       "    <tr style=\"text-align: right;\">\n",
       "      <th></th>\n",
       "      <th>year</th>\n",
       "      <th>name</th>\n",
       "      <th>prop</th>\n",
       "      <th>sex</th>\n",
       "      <th>soundex</th>\n",
       "    </tr>\n",
       "    <tr>\n",
       "      <th>year</th>\n",
       "      <th></th>\n",
       "      <th></th>\n",
       "      <th></th>\n",
       "      <th></th>\n",
       "      <th></th>\n",
       "    </tr>\n",
       "  </thead>\n",
       "  <tbody>\n",
       "    <tr>\n",
       "      <th>2004</th>\n",
       "      <td>2004</td>\n",
       "      <td>Jacob</td>\n",
       "      <td>0.013196</td>\n",
       "      <td>boy</td>\n",
       "      <td>J210</td>\n",
       "    </tr>\n",
       "    <tr>\n",
       "      <th>2005</th>\n",
       "      <td>2005</td>\n",
       "      <td>Jacob</td>\n",
       "      <td>0.012148</td>\n",
       "      <td>boy</td>\n",
       "      <td>J210</td>\n",
       "    </tr>\n",
       "    <tr>\n",
       "      <th>2006</th>\n",
       "      <td>2006</td>\n",
       "      <td>Jacob</td>\n",
       "      <td>0.011331</td>\n",
       "      <td>boy</td>\n",
       "      <td>J210</td>\n",
       "    </tr>\n",
       "    <tr>\n",
       "      <th>2007</th>\n",
       "      <td>2007</td>\n",
       "      <td>Jacob</td>\n",
       "      <td>0.010948</td>\n",
       "      <td>boy</td>\n",
       "      <td>J210</td>\n",
       "    </tr>\n",
       "    <tr>\n",
       "      <th>2008</th>\n",
       "      <td>2008</td>\n",
       "      <td>Jacob</td>\n",
       "      <td>0.010355</td>\n",
       "      <td>boy</td>\n",
       "      <td>J210</td>\n",
       "    </tr>\n",
       "  </tbody>\n",
       "</table>\n",
       "</div>"
      ],
      "text/plain": [
       "      year   name      prop  sex soundex\n",
       "year                                    \n",
       "2004  2004  Jacob  0.013196  boy    J210\n",
       "2005  2005  Jacob  0.012148  boy    J210\n",
       "2006  2006  Jacob  0.011331  boy    J210\n",
       "2007  2007  Jacob  0.010948  boy    J210\n",
       "2008  2008  Jacob  0.010355  boy    J210"
      ]
     },
     "execution_count": 11,
     "metadata": {},
     "output_type": "execute_result"
    }
   ],
   "source": [
    "# Apply the get_max_proportion to the whole dataframe\n",
    "# to get the most popular name for each year (showing first 5)\n",
    "def get_max_proportion(group):\n",
    "    return group.loc[group.prop.idxmax()]\n",
    "    \n",
    "popular_boys_df = boys_df.groupby('year').apply(get_max_proportion)\n",
    "popular_boys_df.tail()"
   ]
  },
  {
   "cell_type": "code",
   "execution_count": 12,
   "metadata": {
    "slideshow": {
     "slide_type": "subslide"
    }
   },
   "outputs": [
    {
     "data": {
      "text/plain": [
       "<AxesSubplot:title={'center':'Proportion most popular boy name'}, xlabel='year'>"
      ]
     },
     "execution_count": 12,
     "metadata": {},
     "output_type": "execute_result"
    },
    {
     "data": {
      "application/vnd.jupyter.widget-view+json": {
       "model_id": "d2af36a6c7104654ac7c89e12c240509",
       "version_major": 2,
       "version_minor": 0
      },
      "image/png": "[encoded data removed]",
      "text/html": [
       "\n",
       "            <div style=\"display: inline-block;\">\n",
       "                <div class=\"jupyter-widgets widget-label\" style=\"text-align: center;\">\n",
       "                    Figure\n",
       "                </div>\n",
       "                <img src='data:image/png;base64,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' width=1000.0/>\n",
       "            </div>\n",
       "        "
      ],
      "text/plain": [
       "Canvas(toolbar=Toolbar(toolitems=[('Home', 'Reset original view', 'home', 'home'), ('Back', 'Back to previous …"
      ]
     },
     "metadata": {},
     "output_type": "display_data"
    }
   ],
   "source": [
    "# Plot the proportion of the most popular boy name per year\n",
    "# Maybe showing more diversity in chosen boy names over time\n",
    "popular_boys_df.prop.plot(legend=True, title='Proportion most popular boy name', \n",
    "                          kind='area', color='#00A99D', alpha=.5, figsize=(10, 4))"
   ]
  },
  {
   "cell_type": "code",
   "execution_count": 13,
   "metadata": {
    "slideshow": {
     "slide_type": "subslide"
    }
   },
   "outputs": [
    {
     "data": {
      "text/html": [
       "<div>\n",
       "<style scoped>\n",
       "    .dataframe tbody tr th:only-of-type {\n",
       "        vertical-align: middle;\n",
       "    }\n",
       "\n",
       "    .dataframe tbody tr th {\n",
       "        vertical-align: top;\n",
       "    }\n",
       "\n",
       "    .dataframe thead th {\n",
       "        text-align: right;\n",
       "    }\n",
       "</style>\n",
       "<table border=\"1\" class=\"dataframe\">\n",
       "  <thead>\n",
       "    <tr style=\"text-align: right;\">\n",
       "      <th></th>\n",
       "      <th></th>\n",
       "      <th>prop</th>\n",
       "      <th>sex</th>\n",
       "      <th>soundex</th>\n",
       "    </tr>\n",
       "    <tr>\n",
       "      <th>name</th>\n",
       "      <th>year</th>\n",
       "      <th></th>\n",
       "      <th></th>\n",
       "      <th></th>\n",
       "    </tr>\n",
       "  </thead>\n",
       "  <tbody>\n",
       "    <tr>\n",
       "      <th>John</th>\n",
       "      <th>1880</th>\n",
       "      <td>0.081541</td>\n",
       "      <td>boy</td>\n",
       "      <td>J500</td>\n",
       "    </tr>\n",
       "    <tr>\n",
       "      <th>William</th>\n",
       "      <th>1880</th>\n",
       "      <td>0.080511</td>\n",
       "      <td>boy</td>\n",
       "      <td>W450</td>\n",
       "    </tr>\n",
       "    <tr>\n",
       "      <th>James</th>\n",
       "      <th>1880</th>\n",
       "      <td>0.050057</td>\n",
       "      <td>boy</td>\n",
       "      <td>J520</td>\n",
       "    </tr>\n",
       "    <tr>\n",
       "      <th>Charles</th>\n",
       "      <th>1880</th>\n",
       "      <td>0.045167</td>\n",
       "      <td>boy</td>\n",
       "      <td>C642</td>\n",
       "    </tr>\n",
       "    <tr>\n",
       "      <th>George</th>\n",
       "      <th>1880</th>\n",
       "      <td>0.043292</td>\n",
       "      <td>boy</td>\n",
       "      <td>G620</td>\n",
       "    </tr>\n",
       "  </tbody>\n",
       "</table>\n",
       "</div>"
      ],
      "text/plain": [
       "                  prop  sex soundex\n",
       "name    year                       \n",
       "John    1880  0.081541  boy    J500\n",
       "William 1880  0.080511  boy    W450\n",
       "James   1880  0.050057  boy    J520\n",
       "Charles 1880  0.045167  boy    C642\n",
       "George  1880  0.043292  boy    G620"
      ]
     },
     "execution_count": 13,
     "metadata": {},
     "output_type": "execute_result"
    }
   ],
   "source": [
    "# Set the index to a name/year combination\n",
    "boys_index_df = boys_df.set_index(['name', 'year'])\n",
    "boys_index_df.head()"
   ]
  },
  {
   "cell_type": "code",
   "execution_count": 14,
   "metadata": {
    "slideshow": {
     "slide_type": "subslide"
    }
   },
   "outputs": [
    {
     "data": {
      "text/plain": [
       "<AxesSubplot:title={'center':'Popularity of the name Leon'}, xlabel='year'>"
      ]
     },
     "execution_count": 14,
     "metadata": {},
     "output_type": "execute_result"
    },
    {
     "data": {
      "application/vnd.jupyter.widget-view+json": {
       "model_id": "d2af36a6c7104654ac7c89e12c240509",
       "version_major": 2,
       "version_minor": 0
      },
      "image/png": "[encoded data removed]",
      "text/html": [
       "\n",
       "            <div style=\"display: inline-block;\">\n",
       "                <div class=\"jupyter-widgets widget-label\" style=\"text-align: center;\">\n",
       "                    Figure\n",
       "                </div>\n",
       "                <img src='data:image/png;base64,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' width=1000.0/>\n",
       "            </div>\n",
       "        "
      ],
      "text/plain": [
       "Canvas(toolbar=Toolbar(toolitems=[('Home', 'Reset original view', 'home', 'home'), ('Back', 'Back to previous …"
      ]
     },
     "metadata": {},
     "output_type": "display_data"
    }
   ],
   "source": [
    "# Narcissistic query for the popularity of my first name\n",
    "leon_popularity = boys_index_df.loc['Leon']\n",
    "leon_popularity.prop.plot(kind='area', color='#00A99D', alpha=.5, \n",
    "                          legend=True, title='Popularity of the name Leon', figsize=(10,4))"
   ]
  },
  {
   "cell_type": "code",
   "execution_count": 15,
   "metadata": {
    "slideshow": {
     "slide_type": "subslide"
    }
   },
   "outputs": [
    {
     "data": {
      "text/plain": [
       "1918"
      ]
     },
     "execution_count": 15,
     "metadata": {},
     "output_type": "execute_result"
    }
   ],
   "source": [
    "# My name was the most popular in the year...\n",
    "boys_index_df.loc['Leon'].prop.idxmax()"
   ]
  },
  {
   "cell_type": "code",
   "execution_count": 16,
   "metadata": {
    "slideshow": {
     "slide_type": "subslide"
    }
   },
   "outputs": [
    {
     "data": {
      "text/plain": [
       "('John', 1880)"
      ]
     },
     "execution_count": 16,
     "metadata": {},
     "output_type": "execute_result"
    }
   ],
   "source": [
    "# Highest boy name proportion ever...\n",
    "boys_index_df.prop.idxmax()"
   ]
  },
  {
   "cell_type": "code",
   "execution_count": 17,
   "metadata": {
    "slideshow": {
     "slide_type": "subslide"
    }
   },
   "outputs": [
    {
     "data": {
      "text/plain": [
       "name\n",
       "Mary         0.034976\n",
       "Jennifer     0.011555\n",
       "Elizabeth    0.010791\n",
       "Margaret     0.010550\n",
       "Helen        0.009568\n",
       "Name: prop, dtype: float64"
      ]
     },
     "execution_count": 17,
     "metadata": {},
     "output_type": "execute_result"
    }
   ],
   "source": [
    "# Calculate the mean proportion for each girl name in the set\n",
    "# Show first 5 in descending order\n",
    "mean_prop = girls_df.groupby('name')['prop'].mean()\n",
    "\n",
    "mean_prop.sort_values(ascending=False).head()"
   ]
  },
  {
   "cell_type": "code",
   "execution_count": 18,
   "metadata": {
    "slideshow": {
     "slide_type": "subslide"
    }
   },
   "outputs": [
    {
     "data": {
      "text/html": [
       "<div>\n",
       "<style scoped>\n",
       "    .dataframe tbody tr th:only-of-type {\n",
       "        vertical-align: middle;\n",
       "    }\n",
       "\n",
       "    .dataframe tbody tr th {\n",
       "        vertical-align: top;\n",
       "    }\n",
       "\n",
       "    .dataframe thead tr th {\n",
       "        text-align: left;\n",
       "    }\n",
       "\n",
       "    .dataframe thead tr:last-of-type th {\n",
       "        text-align: right;\n",
       "    }\n",
       "</style>\n",
       "<table border=\"1\" class=\"dataframe\">\n",
       "  <thead>\n",
       "    <tr>\n",
       "      <th></th>\n",
       "      <th colspan=\"8\" halign=\"left\">prop</th>\n",
       "    </tr>\n",
       "    <tr>\n",
       "      <th></th>\n",
       "      <th>count</th>\n",
       "      <th>mean</th>\n",
       "      <th>std</th>\n",
       "      <th>min</th>\n",
       "      <th>25%</th>\n",
       "      <th>50%</th>\n",
       "      <th>75%</th>\n",
       "      <th>max</th>\n",
       "    </tr>\n",
       "    <tr>\n",
       "      <th>year</th>\n",
       "      <th></th>\n",
       "      <th></th>\n",
       "      <th></th>\n",
       "      <th></th>\n",
       "      <th></th>\n",
       "      <th></th>\n",
       "      <th></th>\n",
       "      <th></th>\n",
       "    </tr>\n",
       "  </thead>\n",
       "  <tbody>\n",
       "    <tr>\n",
       "      <th>1880</th>\n",
       "      <td>1000.0</td>\n",
       "      <td>0.000935</td>\n",
       "      <td>0.003270</td>\n",
       "      <td>0.000041</td>\n",
       "      <td>0.000061</td>\n",
       "      <td>0.000123</td>\n",
       "      <td>0.000400</td>\n",
       "      <td>0.072381</td>\n",
       "    </tr>\n",
       "    <tr>\n",
       "      <th>1881</th>\n",
       "      <td>1000.0</td>\n",
       "      <td>0.000933</td>\n",
       "      <td>0.003214</td>\n",
       "      <td>0.000040</td>\n",
       "      <td>0.000061</td>\n",
       "      <td>0.000121</td>\n",
       "      <td>0.000407</td>\n",
       "      <td>0.069986</td>\n",
       "    </tr>\n",
       "    <tr>\n",
       "      <th>1882</th>\n",
       "      <td>1000.0</td>\n",
       "      <td>0.000931</td>\n",
       "      <td>0.003211</td>\n",
       "      <td>0.000043</td>\n",
       "      <td>0.000061</td>\n",
       "      <td>0.000121</td>\n",
       "      <td>0.000406</td>\n",
       "      <td>0.070431</td>\n",
       "    </tr>\n",
       "    <tr>\n",
       "      <th>1883</th>\n",
       "      <td>1000.0</td>\n",
       "      <td>0.000933</td>\n",
       "      <td>0.003131</td>\n",
       "      <td>0.000042</td>\n",
       "      <td>0.000067</td>\n",
       "      <td>0.000125</td>\n",
       "      <td>0.000433</td>\n",
       "      <td>0.066737</td>\n",
       "    </tr>\n",
       "    <tr>\n",
       "      <th>1884</th>\n",
       "      <td>1000.0</td>\n",
       "      <td>0.000931</td>\n",
       "      <td>0.003124</td>\n",
       "      <td>0.000044</td>\n",
       "      <td>0.000065</td>\n",
       "      <td>0.000128</td>\n",
       "      <td>0.000443</td>\n",
       "      <td>0.066990</td>\n",
       "    </tr>\n",
       "  </tbody>\n",
       "</table>\n",
       "</div>"
      ],
      "text/plain": [
       "        prop                                                              \\\n",
       "       count      mean       std       min       25%       50%       75%   \n",
       "year                                                                       \n",
       "1880  1000.0  0.000935  0.003270  0.000041  0.000061  0.000123  0.000400   \n",
       "1881  1000.0  0.000933  0.003214  0.000040  0.000061  0.000121  0.000407   \n",
       "1882  1000.0  0.000931  0.003211  0.000043  0.000061  0.000121  0.000406   \n",
       "1883  1000.0  0.000933  0.003131  0.000042  0.000067  0.000125  0.000433   \n",
       "1884  1000.0  0.000931  0.003124  0.000044  0.000065  0.000128  0.000443   \n",
       "\n",
       "                \n",
       "           max  \n",
       "year            \n",
       "1880  0.072381  \n",
       "1881  0.069986  \n",
       "1882  0.070431  \n",
       "1883  0.066737  \n",
       "1884  0.066990  "
      ]
     },
     "execution_count": 18,
     "metadata": {},
     "output_type": "execute_result"
    }
   ],
   "source": [
    "# Retrieve summary statistics for each year in the data set\n",
    "result = girls_df.groupby('year').describe()\n",
    "result.head(5)"
   ]
  },
  {
   "cell_type": "markdown",
   "metadata": {
    "slideshow": {
     "slide_type": "slide"
    }
   },
   "source": [
    "## Calculating Baby Name Diversity"
   ]
  },
  {
   "cell_type": "code",
   "execution_count": 19,
   "metadata": {
    "slideshow": {
     "slide_type": "subslide"
    }
   },
   "outputs": [
    {
     "data": {
      "text/html": [
       "<div>\n",
       "<style scoped>\n",
       "    .dataframe tbody tr th:only-of-type {\n",
       "        vertical-align: middle;\n",
       "    }\n",
       "\n",
       "    .dataframe tbody tr th {\n",
       "        vertical-align: top;\n",
       "    }\n",
       "\n",
       "    .dataframe thead th {\n",
       "        text-align: right;\n",
       "    }\n",
       "</style>\n",
       "<table border=\"1\" class=\"dataframe\">\n",
       "  <thead>\n",
       "    <tr style=\"text-align: right;\">\n",
       "      <th></th>\n",
       "      <th>year</th>\n",
       "      <th>name</th>\n",
       "      <th>prop</th>\n",
       "      <th>sex</th>\n",
       "      <th>soundex</th>\n",
       "    </tr>\n",
       "  </thead>\n",
       "  <tbody>\n",
       "    <tr>\n",
       "      <th>221000</th>\n",
       "      <td>1972</td>\n",
       "      <td>Jennifer</td>\n",
       "      <td>0.039447</td>\n",
       "      <td>girl</td>\n",
       "      <td>J516</td>\n",
       "    </tr>\n",
       "    <tr>\n",
       "      <th>221001</th>\n",
       "      <td>1972</td>\n",
       "      <td>Michelle</td>\n",
       "      <td>0.018157</td>\n",
       "      <td>girl</td>\n",
       "      <td>M240</td>\n",
       "    </tr>\n",
       "    <tr>\n",
       "      <th>221002</th>\n",
       "      <td>1972</td>\n",
       "      <td>Lisa</td>\n",
       "      <td>0.017086</td>\n",
       "      <td>girl</td>\n",
       "      <td>L200</td>\n",
       "    </tr>\n",
       "    <tr>\n",
       "      <th>221003</th>\n",
       "      <td>1972</td>\n",
       "      <td>Kimberly</td>\n",
       "      <td>0.016310</td>\n",
       "      <td>girl</td>\n",
       "      <td>K516</td>\n",
       "    </tr>\n",
       "    <tr>\n",
       "      <th>221004</th>\n",
       "      <td>1972</td>\n",
       "      <td>Amy</td>\n",
       "      <td>0.016042</td>\n",
       "      <td>girl</td>\n",
       "      <td>A500</td>\n",
       "    </tr>\n",
       "  </tbody>\n",
       "</table>\n",
       "</div>"
      ],
      "text/plain": [
       "        year      name      prop   sex soundex\n",
       "221000  1972  Jennifer  0.039447  girl    J516\n",
       "221001  1972  Michelle  0.018157  girl    M240\n",
       "221002  1972      Lisa  0.017086  girl    L200\n",
       "221003  1972  Kimberly  0.016310  girl    K516\n",
       "221004  1972       Amy  0.016042  girl    A500"
      ]
     },
     "execution_count": 19,
     "metadata": {},
     "output_type": "execute_result"
    }
   ],
   "source": [
    "# Get a single year of girl names and sort by proportion descending\n",
    "girls_df_1972 = girls_df[girls_df.year == 1972]\n",
    "girls_df_1972_sorted = girls_df_1972.sort_values(by='prop', ascending=False)\n",
    "girls_df_1972_sorted.head()\n"
   ]
  },
  {
   "cell_type": "code",
   "execution_count": 20,
   "metadata": {
    "slideshow": {
     "slide_type": "subslide"
    }
   },
   "outputs": [
    {
     "data": {
      "text/plain": [
       "0.843747000000001"
      ]
     },
     "execution_count": 20,
     "metadata": {},
     "output_type": "execute_result"
    }
   ],
   "source": [
    "# What is the proportion of this top 1000 girl names of the total names?\n",
    "girls_df_1972_sorted.prop.cumsum().max()"
   ]
  },
  {
   "cell_type": "code",
   "execution_count": 21,
   "metadata": {
    "slideshow": {
     "slide_type": "subslide"
    }
   },
   "outputs": [
    {
     "name": "stdout",
     "output_type": "stream",
     "text": [
      "girls_df_1972_cumsum: \n",
      " 221000    0.039447\n",
      "221001    0.057604\n",
      "221002    0.074690\n",
      "221003    0.091000\n",
      "221004    0.107042\n",
      "            ...   \n",
      "221995    0.843453\n",
      "221996    0.843527\n",
      "221997    0.843601\n",
      "221998    0.843674\n",
      "221999    0.843747\n",
      "Name: prop, Length: 1000, dtype: float64\n"
     ]
    }
   ],
   "source": [
    "# Where is the 50% crossover point for cumulative sum\n",
    "girls_df_1972_cumsum = girls_df_1972_sorted.prop.cumsum()\n",
    "print('girls_df_1972_cumsum: \\n', girls_df_1972_cumsum)"
   ]
  },
  {
   "cell_type": "code",
   "execution_count": 22,
   "metadata": {
    "slideshow": {
     "slide_type": "subslide"
    }
   },
   "outputs": [
    {
     "name": "stdout",
     "output_type": "stream",
     "text": [
      "\n",
      "*** crossover =  90\n",
      "\n",
      "data around crossover: \n",
      " 221088    0.496577\n",
      "221089    0.498685\n",
      "221090    0.500773\n",
      "221091    0.502820\n",
      "221092    0.504862\n",
      "Name: prop, dtype: float64\n"
     ]
    }
   ],
   "source": [
    "# The crossover can be seen as a meassure of diversity\n",
    "# It's the number of names accounting for 50% of all the names given\n",
    "# So the higher, the more creative name giving\n",
    "crossover = girls_df_1972_cumsum.searchsorted(.5)\n",
    "print('\\n*** crossover = ', crossover)\n",
    "print('\\ndata around crossover: \\n', girls_df_1972_cumsum[(crossover-2):(crossover+3)])"
   ]
  },
  {
   "cell_type": "code",
   "execution_count": 25,
   "metadata": {
    "slideshow": {
     "slide_type": "subslide"
    }
   },
   "outputs": [
    {
     "ename": "IndexError",
     "evalue": "invalid index to scalar variable.",
     "output_type": "error",
     "traceback": [
      "\u001b[1;31m---------------------------------------------------------------------------\u001b[0m",
      "\u001b[1;31mIndexError\u001b[0m                                Traceback (most recent call last)",
      "Input \u001b[1;32mIn [25]\u001b[0m, in \u001b[0;36m<cell line: 8>\u001b[1;34m()\u001b[0m\n\u001b[0;32m      4\u001b[0m     \u001b[38;5;28;01mreturn\u001b[39;00m df\u001b[38;5;241m.\u001b[39mprop\u001b[38;5;241m.\u001b[39mcumsum()\u001b[38;5;241m.\u001b[39msearchsorted(quantile)[\u001b[38;5;241m0\u001b[39m]\n\u001b[0;32m      6\u001b[0m q \u001b[38;5;241m=\u001b[39m \u001b[38;5;241m.5\u001b[39m\n\u001b[1;32m----> 8\u001b[0m girls_crossover \u001b[38;5;241m=\u001b[39m \u001b[43mgirls_df\u001b[49m\u001b[38;5;241;43m.\u001b[39;49m\u001b[43mgroupby\u001b[49m\u001b[43m(\u001b[49m\u001b[38;5;124;43m'\u001b[39;49m\u001b[38;5;124;43myear\u001b[39;49m\u001b[38;5;124;43m'\u001b[39;49m\u001b[43m)\u001b[49m\u001b[38;5;241;43m.\u001b[39;49m\u001b[43mapply\u001b[49m\u001b[43m(\u001b[49m\u001b[43mget_crossover\u001b[49m\u001b[43m,\u001b[49m\u001b[43m \u001b[49m\u001b[43mquantile\u001b[49m\u001b[38;5;241;43m=\u001b[39;49m\u001b[43mq\u001b[49m\u001b[43m)\u001b[49m\n\u001b[0;32m      9\u001b[0m girls_crossover\u001b[38;5;241m.\u001b[39mname \u001b[38;5;241m=\u001b[39m \u001b[38;5;124m'\u001b[39m\u001b[38;5;124mgirls\u001b[39m\u001b[38;5;124m'\u001b[39m\n\u001b[0;32m     11\u001b[0m boys_crossover \u001b[38;5;241m=\u001b[39m boys_df\u001b[38;5;241m.\u001b[39mgroupby(\u001b[38;5;124m'\u001b[39m\u001b[38;5;124myear\u001b[39m\u001b[38;5;124m'\u001b[39m)\u001b[38;5;241m.\u001b[39mapply(get_crossover, quantile\u001b[38;5;241m=\u001b[39mq)\n",
      "File \u001b[1;32mD:\\1\\a3\\lib\\site-packages\\pandas\\core\\groupby\\groupby.py:1414\u001b[0m, in \u001b[0;36mGroupBy.apply\u001b[1;34m(self, func, *args, **kwargs)\u001b[0m\n\u001b[0;32m   1412\u001b[0m \u001b[38;5;28;01mwith\u001b[39;00m option_context(\u001b[38;5;124m\"\u001b[39m\u001b[38;5;124mmode.chained_assignment\u001b[39m\u001b[38;5;124m\"\u001b[39m, \u001b[38;5;28;01mNone\u001b[39;00m):\n\u001b[0;32m   1413\u001b[0m     \u001b[38;5;28;01mtry\u001b[39;00m:\n\u001b[1;32m-> 1414\u001b[0m         result \u001b[38;5;241m=\u001b[39m \u001b[38;5;28;43mself\u001b[39;49m\u001b[38;5;241;43m.\u001b[39;49m\u001b[43m_python_apply_general\u001b[49m\u001b[43m(\u001b[49m\u001b[43mf\u001b[49m\u001b[43m,\u001b[49m\u001b[43m \u001b[49m\u001b[38;5;28;43mself\u001b[39;49m\u001b[38;5;241;43m.\u001b[39;49m\u001b[43m_selected_obj\u001b[49m\u001b[43m)\u001b[49m\n\u001b[0;32m   1415\u001b[0m     \u001b[38;5;28;01mexcept\u001b[39;00m \u001b[38;5;167;01mTypeError\u001b[39;00m:\n\u001b[0;32m   1416\u001b[0m         \u001b[38;5;66;03m# gh-20949\u001b[39;00m\n\u001b[0;32m   1417\u001b[0m         \u001b[38;5;66;03m# try again, with .apply acting as a filtering\u001b[39;00m\n\u001b[1;32m   (...)\u001b[0m\n\u001b[0;32m   1421\u001b[0m         \u001b[38;5;66;03m# fails on *some* columns, e.g. a numeric operation\u001b[39;00m\n\u001b[0;32m   1422\u001b[0m         \u001b[38;5;66;03m# on a string grouper column\u001b[39;00m\n\u001b[0;32m   1424\u001b[0m         \u001b[38;5;28;01mwith\u001b[39;00m \u001b[38;5;28mself\u001b[39m\u001b[38;5;241m.\u001b[39m_group_selection_context():\n",
      "File \u001b[1;32mD:\\1\\a3\\lib\\site-packages\\pandas\\core\\groupby\\groupby.py:1455\u001b[0m, in \u001b[0;36mGroupBy._python_apply_general\u001b[1;34m(self, f, data, not_indexed_same)\u001b[0m\n\u001b[0;32m   1429\u001b[0m \u001b[38;5;129m@final\u001b[39m\n\u001b[0;32m   1430\u001b[0m \u001b[38;5;28;01mdef\u001b[39;00m \u001b[38;5;21m_python_apply_general\u001b[39m(\n\u001b[0;32m   1431\u001b[0m     \u001b[38;5;28mself\u001b[39m,\n\u001b[1;32m   (...)\u001b[0m\n\u001b[0;32m   1434\u001b[0m     not_indexed_same: \u001b[38;5;28mbool\u001b[39m \u001b[38;5;241m|\u001b[39m \u001b[38;5;28;01mNone\u001b[39;00m \u001b[38;5;241m=\u001b[39m \u001b[38;5;28;01mNone\u001b[39;00m,\n\u001b[0;32m   1435\u001b[0m ) \u001b[38;5;241m-\u001b[39m\u001b[38;5;241m>\u001b[39m DataFrame \u001b[38;5;241m|\u001b[39m Series:\n\u001b[0;32m   1436\u001b[0m     \u001b[38;5;124;03m\"\"\"\u001b[39;00m\n\u001b[0;32m   1437\u001b[0m \u001b[38;5;124;03m    Apply function f in python space\u001b[39;00m\n\u001b[0;32m   1438\u001b[0m \n\u001b[1;32m   (...)\u001b[0m\n\u001b[0;32m   1453\u001b[0m \u001b[38;5;124;03m        data after applying f\u001b[39;00m\n\u001b[0;32m   1454\u001b[0m \u001b[38;5;124;03m    \"\"\"\u001b[39;00m\n\u001b[1;32m-> 1455\u001b[0m     values, mutated \u001b[38;5;241m=\u001b[39m \u001b[38;5;28;43mself\u001b[39;49m\u001b[38;5;241;43m.\u001b[39;49m\u001b[43mgrouper\u001b[49m\u001b[38;5;241;43m.\u001b[39;49m\u001b[43mapply\u001b[49m\u001b[43m(\u001b[49m\u001b[43mf\u001b[49m\u001b[43m,\u001b[49m\u001b[43m \u001b[49m\u001b[43mdata\u001b[49m\u001b[43m,\u001b[49m\u001b[43m \u001b[49m\u001b[38;5;28;43mself\u001b[39;49m\u001b[38;5;241;43m.\u001b[39;49m\u001b[43maxis\u001b[49m\u001b[43m)\u001b[49m\n\u001b[0;32m   1457\u001b[0m     \u001b[38;5;28;01mif\u001b[39;00m not_indexed_same \u001b[38;5;129;01mis\u001b[39;00m \u001b[38;5;28;01mNone\u001b[39;00m:\n\u001b[0;32m   1458\u001b[0m         not_indexed_same \u001b[38;5;241m=\u001b[39m mutated \u001b[38;5;129;01mor\u001b[39;00m \u001b[38;5;28mself\u001b[39m\u001b[38;5;241m.\u001b[39mmutated\n",
      "File \u001b[1;32mD:\\1\\a3\\lib\\site-packages\\pandas\\core\\groupby\\ops.py:761\u001b[0m, in \u001b[0;36mBaseGrouper.apply\u001b[1;34m(self, f, data, axis)\u001b[0m\n\u001b[0;32m    759\u001b[0m \u001b[38;5;66;03m# group might be modified\u001b[39;00m\n\u001b[0;32m    760\u001b[0m group_axes \u001b[38;5;241m=\u001b[39m group\u001b[38;5;241m.\u001b[39maxes\n\u001b[1;32m--> 761\u001b[0m res \u001b[38;5;241m=\u001b[39m \u001b[43mf\u001b[49m\u001b[43m(\u001b[49m\u001b[43mgroup\u001b[49m\u001b[43m)\u001b[49m\n\u001b[0;32m    762\u001b[0m \u001b[38;5;28;01mif\u001b[39;00m \u001b[38;5;129;01mnot\u001b[39;00m mutated \u001b[38;5;129;01mand\u001b[39;00m \u001b[38;5;129;01mnot\u001b[39;00m _is_indexed_like(res, group_axes, axis):\n\u001b[0;32m    763\u001b[0m     mutated \u001b[38;5;241m=\u001b[39m \u001b[38;5;28;01mTrue\u001b[39;00m\n",
      "File \u001b[1;32mD:\\1\\a3\\lib\\site-packages\\pandas\\core\\groupby\\groupby.py:1388\u001b[0m, in \u001b[0;36mGroupBy.apply.<locals>.f\u001b[1;34m(g)\u001b[0m\n\u001b[0;32m   1385\u001b[0m \u001b[38;5;129m@wraps\u001b[39m(func)\n\u001b[0;32m   1386\u001b[0m \u001b[38;5;28;01mdef\u001b[39;00m \u001b[38;5;21mf\u001b[39m(g):\n\u001b[0;32m   1387\u001b[0m     \u001b[38;5;28;01mwith\u001b[39;00m np\u001b[38;5;241m.\u001b[39merrstate(\u001b[38;5;28mall\u001b[39m\u001b[38;5;241m=\u001b[39m\u001b[38;5;124m\"\u001b[39m\u001b[38;5;124mignore\u001b[39m\u001b[38;5;124m\"\u001b[39m):\n\u001b[1;32m-> 1388\u001b[0m         \u001b[38;5;28;01mreturn\u001b[39;00m func(g, \u001b[38;5;241m*\u001b[39margs, \u001b[38;5;241m*\u001b[39m\u001b[38;5;241m*\u001b[39mkwargs)\n",
      "Input \u001b[1;32mIn [25]\u001b[0m, in \u001b[0;36mget_crossover\u001b[1;34m(group, quantile)\u001b[0m\n\u001b[0;32m      2\u001b[0m \u001b[38;5;28;01mdef\u001b[39;00m \u001b[38;5;21mget_crossover\u001b[39m(group, quantile):\n\u001b[0;32m      3\u001b[0m     df \u001b[38;5;241m=\u001b[39m group\u001b[38;5;241m.\u001b[39msort_values(by\u001b[38;5;241m=\u001b[39m\u001b[38;5;124m'\u001b[39m\u001b[38;5;124mprop\u001b[39m\u001b[38;5;124m'\u001b[39m, ascending\u001b[38;5;241m=\u001b[39m\u001b[38;5;28;01mFalse\u001b[39;00m)\n\u001b[1;32m----> 4\u001b[0m     \u001b[38;5;28;01mreturn\u001b[39;00m \u001b[43mdf\u001b[49m\u001b[38;5;241;43m.\u001b[39;49m\u001b[43mprop\u001b[49m\u001b[38;5;241;43m.\u001b[39;49m\u001b[43mcumsum\u001b[49m\u001b[43m(\u001b[49m\u001b[43m)\u001b[49m\u001b[38;5;241;43m.\u001b[39;49m\u001b[43msearchsorted\u001b[49m\u001b[43m(\u001b[49m\u001b[43mquantile\u001b[49m\u001b[43m)\u001b[49m\u001b[43m[\u001b[49m\u001b[38;5;241;43m0\u001b[39;49m\u001b[43m]\u001b[49m\n",
      "\u001b[1;31mIndexError\u001b[0m: invalid index to scalar variable."
     ]
    }
   ],
   "source": [
    "# Let's calculate this crossover point for boys and girls per year\n",
    "def get_crossover(group, quantile):\n",
    "    df = group.sort_values(by='prop', ascending=False)\n",
    "    return df.prop.cumsum().searchsorted(quantile)[0]\n",
    "\n",
    "q = .5\n",
    "\n",
    "girls_crossover = girls_df.groupby('year').apply(get_crossover, quantile=q)\n",
    "girls_crossover.name = 'girls'\n",
    "\n",
    "boys_crossover = boys_df.groupby('year').apply(get_crossover, quantile=q)\n",
    "boys_crossover.name = 'boys'\n",
    "\n",
    "# Plot the crossover counts over time\n",
    "girls_crossover.plot(kind='area', color='#00A99D', alpha=.5, legend=True)\n",
    "boys_crossover.plot(title='Baby name diversity', kind='area', \n",
    "                    color='#F5CA0C', alpha=.5, legend=True)"
   ]
  },
  {
   "cell_type": "markdown",
   "metadata": {
    "slideshow": {
     "slide_type": "slide"
    }
   },
   "source": [
    "### Done!\n",
    "\n",
    "#### Next: _Mean, Median and Mode_"
   ]
  }
 ],
 "metadata": {
  "celltoolbar": "Slideshow",
  "kernelspec": {
   "display_name": "Python 3 (ipykernel)",
   "language": "python",
   "name": "python3"
  },
  "language_info": {
   "codemirror_mode": {
    "name": "ipython",
    "version": 3
   },
   "file_extension": ".py",
   "mimetype": "text/x-python",
   "name": "python",
   "nbconvert_exporter": "python",
   "pygments_lexer": "ipython3",
   "version": "3.9.12"
  },
  "toc-showtags": false
 },
 "nbformat": 4,
 "nbformat_minor": 4
}

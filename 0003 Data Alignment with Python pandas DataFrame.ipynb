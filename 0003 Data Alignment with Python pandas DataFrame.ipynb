{
 "cells": [
  {
   "cell_type": "markdown",
   "metadata": {
    "slideshow": {
     "slide_type": "slide"
    }
   },
   "source": [
    "# 03 Using Pandas\n",
    "\n",
    "### Data Alignment with Python pandas DataFrame"
   ]
  },
  {
   "cell_type": "markdown",
   "metadata": {
    "slideshow": {
     "slide_type": "subslide"
    }
   },
   "source": [
    "# Overview\n",
    "\n",
    "* Reading from CSV file\n",
    "* Align two Data Frames"
   ]
  },
  {
   "cell_type": "markdown",
   "metadata": {
    "slideshow": {
     "slide_type": "slide"
    }
   },
   "source": [
    "# Setup"
   ]
  },
  {
   "cell_type": "code",
   "execution_count": 11,
   "metadata": {
    "collapsed": false,
    "jupyter": {
     "outputs_hidden": false
    },
    "slideshow": {
     "slide_type": "subslide"
    }
   },
   "outputs": [],
   "source": [
    "import pandas as pd\n",
    "import numpy as np\n",
    "from IPython.display import display, HTML\n",
    "\n",
    "# turn on data table rendering\n",
    "pd.set_option('display.notebook_repr_html', True) \n",
    "\n",
    "# This function is to show two data structures side by side\n",
    "# Used in Web McKinney's presentations: http://www.youtube.com/watch?v=w26x-z-BdWQ\n",
    "def side_by_side(*objs, **kwds):\n",
    "    #from pandas.core.common import adjoin\n",
    "    # adjoin moved to pandas.io.formats.printing\n",
    "    from pandas.io.formats.printing import adjoin\n",
    "    space = kwds.get('space', 4)\n",
    "    reprs = [repr(obj).split('\\n') for obj in objs]\n",
    "    print(adjoin(space, *reprs))"
   ]
  },
  {
   "cell_type": "markdown",
   "metadata": {
    "slideshow": {
     "slide_type": "slide"
    }
   },
   "source": [
    "# Reading from CSV file"
   ]
  },
  {
   "cell_type": "code",
   "execution_count": 2,
   "metadata": {
    "collapsed": false,
    "jupyter": {
     "outputs_hidden": false
    },
    "slideshow": {
     "slide_type": "subslide"
    }
   },
   "outputs": [
    {
     "data": {
      "text/html": [
       "<div>\n",
       "<style scoped>\n",
       "    .dataframe tbody tr th:only-of-type {\n",
       "        vertical-align: middle;\n",
       "    }\n",
       "\n",
       "    .dataframe tbody tr th {\n",
       "        vertical-align: top;\n",
       "    }\n",
       "\n",
       "    .dataframe thead th {\n",
       "        text-align: right;\n",
       "    }\n",
       "</style>\n",
       "<table border=\"1\" class=\"dataframe\">\n",
       "  <thead>\n",
       "    <tr style=\"text-align: right;\">\n",
       "      <th></th>\n",
       "      <th>AA</th>\n",
       "      <th>AAPL</th>\n",
       "      <th>GE</th>\n",
       "      <th>IBM</th>\n",
       "      <th>JNJ</th>\n",
       "      <th>MSFT</th>\n",
       "      <th>PEP</th>\n",
       "      <th>SPX</th>\n",
       "      <th>XOM</th>\n",
       "    </tr>\n",
       "  </thead>\n",
       "  <tbody>\n",
       "    <tr>\n",
       "      <th>2011-10-10</th>\n",
       "      <td>10.09</td>\n",
       "      <td>388.81</td>\n",
       "      <td>16.14</td>\n",
       "      <td>186.62</td>\n",
       "      <td>64.43</td>\n",
       "      <td>26.94</td>\n",
       "      <td>61.87</td>\n",
       "      <td>1194.89</td>\n",
       "      <td>76.28</td>\n",
       "    </tr>\n",
       "    <tr>\n",
       "      <th>2011-10-11</th>\n",
       "      <td>10.30</td>\n",
       "      <td>400.29</td>\n",
       "      <td>16.14</td>\n",
       "      <td>185.00</td>\n",
       "      <td>63.96</td>\n",
       "      <td>27.00</td>\n",
       "      <td>60.95</td>\n",
       "      <td>1195.54</td>\n",
       "      <td>76.27</td>\n",
       "    </tr>\n",
       "    <tr>\n",
       "      <th>2011-10-12</th>\n",
       "      <td>10.05</td>\n",
       "      <td>402.19</td>\n",
       "      <td>16.40</td>\n",
       "      <td>186.12</td>\n",
       "      <td>64.33</td>\n",
       "      <td>26.96</td>\n",
       "      <td>62.70</td>\n",
       "      <td>1207.25</td>\n",
       "      <td>77.16</td>\n",
       "    </tr>\n",
       "    <tr>\n",
       "      <th>2011-10-13</th>\n",
       "      <td>10.10</td>\n",
       "      <td>408.43</td>\n",
       "      <td>16.22</td>\n",
       "      <td>186.82</td>\n",
       "      <td>64.23</td>\n",
       "      <td>27.18</td>\n",
       "      <td>62.36</td>\n",
       "      <td>1203.66</td>\n",
       "      <td>76.37</td>\n",
       "    </tr>\n",
       "    <tr>\n",
       "      <th>2011-10-14</th>\n",
       "      <td>10.26</td>\n",
       "      <td>422.00</td>\n",
       "      <td>16.60</td>\n",
       "      <td>190.53</td>\n",
       "      <td>64.72</td>\n",
       "      <td>27.27</td>\n",
       "      <td>62.24</td>\n",
       "      <td>1224.58</td>\n",
       "      <td>78.11</td>\n",
       "    </tr>\n",
       "  </tbody>\n",
       "</table>\n",
       "</div>"
      ],
      "text/plain": [
       "               AA    AAPL     GE     IBM    JNJ   MSFT    PEP      SPX    XOM\n",
       "2011-10-10  10.09  388.81  16.14  186.62  64.43  26.94  61.87  1194.89  76.28\n",
       "2011-10-11  10.30  400.29  16.14  185.00  63.96  27.00  60.95  1195.54  76.27\n",
       "2011-10-12  10.05  402.19  16.40  186.12  64.33  26.96  62.70  1207.25  77.16\n",
       "2011-10-13  10.10  408.43  16.22  186.82  64.23  27.18  62.36  1203.66  76.37\n",
       "2011-10-14  10.26  422.00  16.60  190.53  64.72  27.27  62.24  1224.58  78.11"
      ]
     },
     "execution_count": 2,
     "metadata": {},
     "output_type": "execute_result"
    }
   ],
   "source": [
    "# Reading stock data from csv. Used in a pandas tutorial by Wes McKinney. \n",
    "df = pd.read_csv('data\\stock_data.csv', index_col=0, parse_dates=True)\n",
    "\n",
    "# Take a look at the last 5 rows\n",
    "df.tail()"
   ]
  },
  {
   "cell_type": "code",
   "execution_count": 3,
   "metadata": {
    "collapsed": false,
    "jupyter": {
     "outputs_hidden": false
    },
    "slideshow": {
     "slide_type": "subslide"
    }
   },
   "outputs": [
    {
     "data": {
      "text/plain": [
       "1000"
      ]
     },
     "execution_count": 3,
     "metadata": {},
     "output_type": "execute_result"
    }
   ],
   "source": [
    "# Query the number of rows\n",
    "len(df)"
   ]
  },
  {
   "cell_type": "code",
   "execution_count": 4,
   "metadata": {
    "collapsed": false,
    "jupyter": {
     "outputs_hidden": false
    },
    "slideshow": {
     "slide_type": "subslide"
    }
   },
   "outputs": [
    {
     "data": {
      "text/plain": [
       "2007-11-05    105.48\n",
       "2007-11-06    105.27\n",
       "2007-11-07    103.69\n",
       "2007-11-08     99.05\n",
       "2007-11-09     93.58\n",
       "Name: IBM, dtype: float64"
      ]
     },
     "execution_count": 4,
     "metadata": {},
     "output_type": "execute_result"
    }
   ],
   "source": [
    "# Slices of the DataFrame of IBM stock\n",
    "s1 = df.IBM[10:20]\n",
    "s2 = df.IBM[5:15]\n",
    "s1.head()\n",
    "s2.head()"
   ]
  },
  {
   "cell_type": "code",
   "execution_count": 5,
   "metadata": {
    "collapsed": false,
    "jupyter": {
     "outputs_hidden": false
    },
    "slideshow": {
     "slide_type": "subslide"
    }
   },
   "outputs": [
    {
     "data": {
      "text/plain": [
       "2007-11-05       NaN\n",
       "2007-11-06       NaN\n",
       "2007-11-07       NaN\n",
       "2007-11-08       NaN\n",
       "2007-11-09       NaN\n",
       "2007-11-12    189.40\n",
       "2007-11-13    196.54\n",
       "2007-11-14    193.12\n",
       "2007-11-15    193.42\n",
       "2007-11-16    195.64\n",
       "2007-11-19       NaN\n",
       "2007-11-20       NaN\n",
       "2007-11-21       NaN\n",
       "2007-11-23       NaN\n",
       "2007-11-26       NaN\n",
       "Name: IBM, dtype: float64"
      ]
     },
     "execution_count": 5,
     "metadata": {},
     "output_type": "execute_result"
    }
   ],
   "source": [
    "# Union (of the index) and sum where both values are not NaN\n",
    "s1 + s2"
   ]
  },
  {
   "cell_type": "code",
   "execution_count": 6,
   "metadata": {
    "collapsed": false,
    "jupyter": {
     "outputs_hidden": false
    },
    "slideshow": {
     "slide_type": "subslide"
    }
   },
   "outputs": [
    {
     "data": {
      "text/plain": [
       "2007-11-12    189.40\n",
       "2007-11-13    196.54\n",
       "2007-11-14    193.12\n",
       "2007-11-15    193.42\n",
       "2007-11-16    195.64\n",
       "Name: IBM, dtype: float64"
      ]
     },
     "execution_count": 6,
     "metadata": {},
     "output_type": "execute_result"
    }
   ],
   "source": [
    "# Same thing but now stripped of the NaN values\n",
    "(s1 + s2).dropna()"
   ]
  },
  {
   "cell_type": "markdown",
   "metadata": {
    "slideshow": {
     "slide_type": "slide"
    }
   },
   "source": [
    "# Align"
   ]
  },
  {
   "cell_type": "code",
   "execution_count": 7,
   "metadata": {
    "collapsed": false,
    "jupyter": {
     "outputs_hidden": false
    },
    "slideshow": {
     "slide_type": "subslide"
    }
   },
   "outputs": [
    {
     "name": "stdout",
     "output_type": "stream",
     "text": [
      "2007-11-05      NaN          2007-11-05    105.48     \n",
      "2007-11-06      NaN          2007-11-06    105.27     \n",
      "2007-11-07      NaN          2007-11-07    103.69     \n",
      "2007-11-08      NaN          2007-11-08     99.05     \n",
      "2007-11-09      NaN          2007-11-09     93.58     \n",
      "2007-11-12    94.70          2007-11-12     94.70     \n",
      "2007-11-13    98.27          2007-11-13     98.27     \n",
      "2007-11-14    96.56          2007-11-14     96.56     \n",
      "2007-11-15    96.71          2007-11-15     96.71     \n",
      "2007-11-16    97.82          2007-11-16     97.82     \n",
      "2007-11-19    95.42          2007-11-19       NaN     \n",
      "2007-11-20    96.54          2007-11-20       NaN     \n",
      "2007-11-21    95.42          2007-11-21       NaN     \n",
      "2007-11-23    97.13          2007-11-23       NaN     \n",
      "2007-11-26    95.19          2007-11-26       NaN     \n",
      "Name: IBM, dtype: float64    Name: IBM, dtype: float64\n"
     ]
    }
   ],
   "source": [
    "# Align s1 and s2 with an outer join = default\n",
    "a, b = s1.align(s2, join='outer')\n",
    "side_by_side(a, b)"
   ]
  },
  {
   "cell_type": "code",
   "execution_count": 8,
   "metadata": {
    "collapsed": false,
    "jupyter": {
     "outputs_hidden": false
    },
    "slideshow": {
     "slide_type": "subslide"
    }
   },
   "outputs": [
    {
     "name": "stdout",
     "output_type": "stream",
     "text": [
      "2007-11-12    94.70          2007-11-12    94.70      \n",
      "2007-11-13    98.27          2007-11-13    98.27      \n",
      "2007-11-14    96.56          2007-11-14    96.56      \n",
      "2007-11-15    96.71          2007-11-15    96.71      \n",
      "2007-11-16    97.82          2007-11-16    97.82      \n",
      "Name: IBM, dtype: float64    Name: IBM, dtype: float64\n"
     ]
    }
   ],
   "source": [
    "# Align s1 and s2 with an inner join\n",
    "a, b = s1.align(s2, join='inner')\n",
    "side_by_side(a, b)"
   ]
  },
  {
   "cell_type": "code",
   "execution_count": 9,
   "metadata": {
    "collapsed": false,
    "jupyter": {
     "outputs_hidden": false
    },
    "slideshow": {
     "slide_type": "subslide"
    }
   },
   "outputs": [
    {
     "name": "stdout",
     "output_type": "stream",
     "text": [
      "2007-11-12    94.70          2007-11-12    94.70      \n",
      "2007-11-13    98.27          2007-11-13    98.27      \n",
      "2007-11-14    96.56          2007-11-14    96.56      \n",
      "2007-11-15    96.71          2007-11-15    96.71      \n",
      "2007-11-16    97.82          2007-11-16    97.82      \n",
      "2007-11-19    95.42          2007-11-19      NaN      \n",
      "2007-11-20    96.54          2007-11-20      NaN      \n",
      "2007-11-21    95.42          2007-11-21      NaN      \n",
      "2007-11-23    97.13          2007-11-23      NaN      \n",
      "2007-11-26    95.19          2007-11-26      NaN      \n",
      "Name: IBM, dtype: float64    Name: IBM, dtype: float64\n"
     ]
    }
   ],
   "source": [
    "# Align s1 and s2 with a left join\n",
    "a, b = s1.align(s2, join='left')\n",
    "side_by_side(a, b)"
   ]
  },
  {
   "cell_type": "code",
   "execution_count": 10,
   "metadata": {
    "collapsed": false,
    "jupyter": {
     "outputs_hidden": false
    },
    "slideshow": {
     "slide_type": "subslide"
    }
   },
   "outputs": [
    {
     "name": "stdout",
     "output_type": "stream",
     "text": [
      "2007-11-05     0.00          2007-11-05    105.48     \n",
      "2007-11-06     0.00          2007-11-06    105.27     \n",
      "2007-11-07     0.00          2007-11-07    103.69     \n",
      "2007-11-08     0.00          2007-11-08     99.05     \n",
      "2007-11-09     0.00          2007-11-09     93.58     \n",
      "2007-11-12    94.70          2007-11-12     94.70     \n",
      "2007-11-13    98.27          2007-11-13     98.27     \n",
      "2007-11-14    96.56          2007-11-14     96.56     \n",
      "2007-11-15    96.71          2007-11-15     96.71     \n",
      "2007-11-16    97.82          2007-11-16     97.82     \n",
      "Name: IBM, dtype: float64    Name: IBM, dtype: float64\n"
     ]
    }
   ],
   "source": [
    "# Align s1 and s2 with a right join and set value to 0 if NaN\n",
    "a, b = s1.align(s2, join='right', fill_value=0)\n",
    "side_by_side(a, b)"
   ]
  },
  {
   "cell_type": "markdown",
   "metadata": {
    "slideshow": {
     "slide_type": "slide"
    }
   },
   "source": [
    "# Done!\n",
    "\n",
    "#### Next: _Applying functions to the Data Frame_"
   ]
  }
 ],
 "metadata": {
  "celltoolbar": "Slideshow",
  "kernelspec": {
   "display_name": "Python 3 (ipykernel)",
   "language": "python",
   "name": "python3"
  },
  "language_info": {
   "codemirror_mode": {
    "name": "ipython",
    "version": 3
   },
   "file_extension": ".py",
   "mimetype": "text/x-python",
   "name": "python",
   "nbconvert_exporter": "python",
   "pygments_lexer": "ipython3",
   "version": "3.9.12"
  }
 },
 "nbformat": 4,
 "nbformat_minor": 4
}

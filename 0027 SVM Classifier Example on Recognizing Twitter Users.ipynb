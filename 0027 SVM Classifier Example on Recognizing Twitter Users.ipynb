{
 "cells": [
  {
   "cell_type": "markdown",
   "metadata": {
    "slideshow": {
     "slide_type": "slide"
    }
   },
   "source": [
    "# 27 SVM Classifier Example\n",
    "\n",
    "### Recognizing Twitter Users"
   ]
  },
  {
   "cell_type": "markdown",
   "metadata": {
    "slideshow": {
     "slide_type": "subslide"
    }
   },
   "source": [
    "### Overview\n",
    "<span>\n",
    "    <table>\n",
    "        <tr><td>Support Vector Machines<td><tr>\n",
    "        <tr><td>Kernel functions<td><tr>\n",
    "        <tr><td>Example<td><tr>\n",
    "        <tr><td>Training and test sets<td><tr>\n",
    "        <tr><td>TF-IDF Feature Vectors<td><tr>\n",
    "        <tr><td>Training the SVM Classifier<td><tr>\n",
    "        <tr><td>Prediction<td><tr>\n",
    "        <tr><td>Model Accuracy<td><tr>\n",
    "    <table>\n",
    "<span>"
   ]
  },
  {
   "cell_type": "markdown",
   "metadata": {
    "slideshow": {
     "slide_type": "slide"
    }
   },
   "source": [
    "### Setup"
   ]
  },
  {
   "cell_type": "code",
   "execution_count": 1,
   "metadata": {
    "slideshow": {
     "slide_type": "subslide"
    }
   },
   "outputs": [
    {
     "data": {
      "text/plain": [
       "'3.8.5 (default, Sep  3 2020, 21:29:08) [MSC v.1916 64 bit (AMD64)]'"
      ]
     },
     "execution_count": 1,
     "metadata": {},
     "output_type": "execute_result"
    }
   ],
   "source": [
    "%matplotlib inline\n",
    "import sys\n",
    "import string\n",
    "import numpy as np\n",
    "import pandas as pd\n",
    "import matplotlib.pyplot as plt\n",
    "import seaborn as sns\n",
    "\n",
    "from sklearn.svm import SVC\n",
    "from sklearn.metrics import accuracy_score\n",
    "from sklearn.feature_extraction.text import CountVectorizer\n",
    "from sklearn.feature_extraction.text import TfidfTransformer\n",
    "from __future__ import print_function\n",
    "\n",
    "# turn of data table rendering\n",
    "pd.set_option('display.notebook_repr_html', False)\n",
    "sns.set_palette(['#00A99D', '#F5CA0C', '#B6129F', '#76620C', '#095C57'])\n",
    "sys.version"
   ]
  },
  {
   "cell_type": "markdown",
   "metadata": {
    "slideshow": {
     "slide_type": "slide"
    }
   },
   "source": [
    "## Support Vector Machines\n",
    "Support Vector Machines, or SVMs, are supervised learning models used for classification and regression analysis. The concept of how SVMs work can be hard to grasp. It sure is a much more advanced way to classify data than the [Naive Bayes](http://unsupervised-learning.com/gaussian-naive-bayes-classifier-scikit-learn/) algorithm discussed earlier. Given a data set with features and classes, an SVM finds a line with the largest distance between each of two features, called an optimal hyperplane with a maximal margin. It's like a highway through the data points separating the two features as much as possible.\n",
    "\n",
    "The plot shown below, borrowed from the [scikit-learn documentation](http://scikit-learn.org/stable/auto_examples/svm/plot_separating_hyperplane.html#example-svm-plot-separating-hyperplane-py), shows a linear SVM hyperplane on two features with three support vectors in yellow."
   ]
  },
  {
   "cell_type": "code",
   "execution_count": 2,
   "metadata": {
    "slideshow": {
     "slide_type": "subslide"
    }
   },
   "outputs": [
    {
     "data": {
      "image/png": "[encoded data removed]",
      "text/plain": [
       "<Figure size 432x288 with 1 Axes>"
      ]
     },
     "metadata": {
      "needs_background": "light"
     },
     "output_type": "display_data"
    }
   ],
   "source": [
    "# We create 40 separable points\n",
    "np.random.seed(0)\n",
    "X = np.r_[np.random.randn(20, 2) - [2, 2], np.random.randn(20, 2) + [2, 2]]\n",
    "Y = [0] * 20 + [1] * 20\n",
    "\n",
    "# Fit the model\n",
    "clf = SVC(kernel='linear')\n",
    "clf.fit(X, Y)\n",
    "\n",
    "# Get the separating hyperplane\n",
    "w = clf.coef_[0]\n",
    "a = -w[0] / w[1]\n",
    "xx = np.linspace(-5, 5)\n",
    "yy = a * xx - (clf.intercept_[0]) / w[1]\n",
    "\n",
    "# Plot the parallels to the separating hyperplane that pass through the\n",
    "# support vectors\n",
    "b = clf.support_vectors_[0]\n",
    "yy_down = a * xx + (b[1] - a * b[0])\n",
    "b = clf.support_vectors_[-1]\n",
    "yy_up = a * xx + (b[1] - a * b[0])\n",
    "\n",
    "# Plot the line, the points, and the nearest vectors to the plane\n",
    "plt.plot(xx, yy, 'k-', color='#00A99D')\n",
    "plt.plot(xx, yy_down, 'k--', color='gray')\n",
    "plt.plot(xx, yy_up, 'k--', color='gray')\n",
    "\n",
    "# Plot the support vectors in yellow\n",
    "plt.scatter(clf.support_vectors_[:, 0], clf.support_vectors_[:, 1],\n",
    "            s=200, color='#F5CA0C')\n",
    "plt.scatter(X[:, 0], X[:, 1], c=Y, cmap='gray', s=40)\n",
    "plt.show()"
   ]
  },
  {
   "cell_type": "markdown",
   "metadata": {
    "slideshow": {
     "slide_type": "slide"
    }
   },
   "source": [
    "## Kernel functions\n",
    "The example here uses a linear kernel function. Applied to the features it makes the data highly separable by increasing the dimensionality of the data. The scikit-learn SVM implementation had three [built-in kernel functions](http://scikit-learn.org/stable/auto_examples/svm/plot_svm_kernels.html) 'linear', 'poly' and 'rbf'."
   ]
  },
  {
   "cell_type": "markdown",
   "metadata": {
    "slideshow": {
     "slide_type": "slide"
    }
   },
   "source": [
    "## Example\n",
    "In this example we use an SVM with a linear kernel to predict who wrote an update on Twitter. The dataset contains recent tweets of two data analytics giants; Gregory Piatetsky ([@kdnuggets](https://twitter.com/kdnuggets)) and Big Data Science ([@analyticbridge](https://twitter.com/analyticbridge)). The screen_name acts as the label while each word in the tweet is a feature.\n",
    "\n",
    "You can [download the data set](https://raw.githubusercontent.com/remondo/NoteBooks-Unsupervised-Learning/master/data/tweets.csv) from Github."
   ]
  },
  {
   "cell_type": "code",
   "execution_count": 3,
   "metadata": {
    "slideshow": {
     "slide_type": "subslide"
    }
   },
   "outputs": [
    {
     "data": {
      "text/plain": [
       "analyticbridge    200\n",
       "kdnuggets         200\n",
       "Name: screen_name, dtype: int64"
      ]
     },
     "execution_count": 3,
     "metadata": {},
     "output_type": "execute_result"
    }
   ],
   "source": [
    "# Load 200 tweets from @kdnuggets and @analyticbridge (n=400)\n",
    "df = pd.read_csv('data/tweets.csv')\n",
    "df.screen_name.value_counts()"
   ]
  },
  {
   "cell_type": "code",
   "execution_count": 4,
   "metadata": {
    "slideshow": {
     "slide_type": "subslide"
    }
   },
   "outputs": [
    {
     "data": {
      "text/plain": [
       "('analyticbridge',\n",
       " 'Three myths about data scientists and big data http://t.co/EtzjR4pdbH')"
      ]
     },
     "execution_count": 4,
     "metadata": {},
     "output_type": "execute_result"
    }
   ],
   "source": [
    "# Show arbitrary datapoint\n",
    "df.screen_name[331], df.tweet[331]"
   ]
  },
  {
   "cell_type": "code",
   "execution_count": 5,
   "metadata": {
    "slideshow": {
     "slide_type": "subslide"
    }
   },
   "outputs": [
    {
     "data": {
      "text/plain": [
       "      screen_name                                              tweet\n",
       "0  analyticbridge  Six keywords characterizing milestones in the ...\n",
       "1       kdnuggets  Get practical training at PASS Business Analyt...\n",
       "2  analyticbridge  The application of Propensity Score Matching h...\n",
       "3       kdnuggets  Old data analysts don't die - they just get br...\n",
       "4       kdnuggets  How Many Quants are Changing Jobs? http://t.co..."
      ]
     },
     "execution_count": 5,
     "metadata": {},
     "output_type": "execute_result"
    }
   ],
   "source": [
    "# Shuffle the data\n",
    "def shuffle(data, n):\n",
    "    ind = data.index\n",
    "    for i in range(n):\n",
    "       sampler = np.random.permutation(data.shape[0])\n",
    "       new_vals = data.take(sampler).values\n",
    "       data = pd.DataFrame(new_vals, index=ind)\n",
    "    return data\n",
    "\n",
    "df = shuffle(df, 1)\n",
    "df.columns = ['screen_name', 'tweet']\n",
    "df.head()"
   ]
  },
  {
   "cell_type": "markdown",
   "metadata": {
    "slideshow": {
     "slide_type": "slide"
    }
   },
   "source": [
    "## Training and test sets\n",
    "To train our SVM model, we need a large enough training set and a test set to test for accuracy. We split the data 75% for training and 25% for testing the model."
   ]
  },
  {
   "cell_type": "code",
   "execution_count": 6,
   "metadata": {
    "slideshow": {
     "slide_type": "subslide"
    }
   },
   "outputs": [
    {
     "data": {
      "text/plain": [
       "300"
      ]
     },
     "execution_count": 6,
     "metadata": {},
     "output_type": "execute_result"
    }
   ],
   "source": [
    "# Create a training set (3/4 of the data)\n",
    "train_n = 300\n",
    "train_features = df['tweet'][:train_n]\n",
    "train_labels = df['screen_name'][:train_n]\n",
    "train_features.count()"
   ]
  },
  {
   "cell_type": "code",
   "execution_count": 7,
   "metadata": {
    "slideshow": {
     "slide_type": "subslide"
    }
   },
   "outputs": [
    {
     "data": {
      "text/plain": [
       "100"
      ]
     },
     "execution_count": 7,
     "metadata": {},
     "output_type": "execute_result"
    }
   ],
   "source": [
    "# Create a test set (1/4 of the data)\n",
    "test_features = df['tweet'][train_n:]\n",
    "test_labels = df['screen_name'][train_n:]\n",
    "test_features.count()"
   ]
  },
  {
   "cell_type": "markdown",
   "metadata": {
    "slideshow": {
     "slide_type": "slide"
    }
   },
   "source": [
    "## TF-IDF Feature Vectors\n",
    "To extract useful features from the tweets we use the TF-IDF algorithm to qualify the importance of words. For more on TF-IDF, see [Using TF-IDF for Text Mining in Python](http://unsupervised-learning.com/tf-idf-text-mining-python). To do this, we use the [count_vectorizer](http://scikit-learn.org/stable/modules/generated/sklearn.feature_extraction.text.CountVectorizer.html) and [tfidf_transformer](http://scikit-learn.org/stable/modules/generated/sklearn.feature_extraction.text.TfidfTransformer.html) from the scikit-learn machine learning library."
   ]
  },
  {
   "cell_type": "code",
   "execution_count": 8,
   "metadata": {
    "slideshow": {
     "slide_type": "subslide"
    }
   },
   "outputs": [
    {
     "data": {
      "text/plain": [
       "(300, 1688)"
      ]
     },
     "execution_count": 8,
     "metadata": {},
     "output_type": "execute_result"
    }
   ],
   "source": [
    "# In order to perform machine learning on text documents, we first \n",
    "# need to turn the text content into numerical features.\n",
    "count_vectorizer = CountVectorizer()\n",
    "\n",
    "train_counts = count_vectorizer.fit_transform(train_features)\n",
    "train_counts.shape"
   ]
  },
  {
   "cell_type": "code",
   "execution_count": 9,
   "metadata": {
    "slideshow": {
     "slide_type": "subslide"
    }
   },
   "outputs": [
    {
     "data": {
      "text/plain": [
       "(300, 1688)"
      ]
     },
     "execution_count": 9,
     "metadata": {},
     "output_type": "execute_result"
    }
   ],
   "source": [
    "# Transform to Term Frequencies - Inverse Document Frequencies\n",
    "tfidf_transformer = TfidfTransformer(use_idf=False)\n",
    "tfidf_transformer.fit(train_counts)\n",
    "\n",
    "train_tfidf = tfidf_transformer.transform(train_counts)\n",
    "train_tfidf.shape"
   ]
  },
  {
   "cell_type": "code",
   "execution_count": 10,
   "metadata": {
    "slideshow": {
     "slide_type": "subslide"
    }
   },
   "outputs": [
    {
     "data": {
      "text/plain": [
       "(100, 1688)"
      ]
     },
     "execution_count": 10,
     "metadata": {},
     "output_type": "execute_result"
    }
   ],
   "source": [
    "# Create a TF-IDF for the test data\n",
    "test_counts = count_vectorizer.transform(test_features)\n",
    "test_tfidf = tfidf_transformer.transform(test_counts)\n",
    "test_tfidf.shape"
   ]
  },
  {
   "cell_type": "markdown",
   "metadata": {
    "slideshow": {
     "slide_type": "slide"
    }
   },
   "source": [
    "## Training the SVM Classifier\n",
    "We train the Support Vector Machine with a linear kernel on the TF-IDF scores and both Twitter handles as the training labels."
   ]
  },
  {
   "cell_type": "code",
   "execution_count": 11,
   "metadata": {
    "slideshow": {
     "slide_type": "subslide"
    }
   },
   "outputs": [
    {
     "data": {
      "text/plain": [
       "SVC(kernel='linear')"
      ]
     },
     "execution_count": 11,
     "metadata": {},
     "output_type": "execute_result"
    }
   ],
   "source": [
    "# Train the SVC with linear kernel\n",
    "clf = SVC(kernel=\"linear\")\n",
    "clf.fit(train_tfidf, train_labels)"
   ]
  },
  {
   "cell_type": "markdown",
   "metadata": {
    "slideshow": {
     "slide_type": "slide"
    }
   },
   "source": [
    "## Prediction\n",
    "To test our fitted model, we use the test set to predict tweets it has never seen before."
   ]
  },
  {
   "cell_type": "code",
   "execution_count": 12,
   "metadata": {
    "slideshow": {
     "slide_type": "subslide"
    }
   },
   "outputs": [
    {
     "data": {
      "text/plain": [
       "array(['kdnuggets', 'analyticbridge', 'analyticbridge', 'analyticbridge',\n",
       "       'analyticbridge', 'kdnuggets', 'analyticbridge', 'analyticbridge',\n",
       "       'kdnuggets', 'kdnuggets', 'kdnuggets'], dtype=object)"
      ]
     },
     "execution_count": 12,
     "metadata": {},
     "output_type": "execute_result"
    }
   ],
   "source": [
    "# Predict with the test data\n",
    "pred = clf.predict(test_tfidf)\n",
    "pred[:11]"
   ]
  },
  {
   "cell_type": "markdown",
   "metadata": {
    "slideshow": {
     "slide_type": "slide"
    }
   },
   "source": [
    "## Model Accuracy\n",
    "We determine the current model accuracy by comparing the actual test labels with the predicted labels."
   ]
  },
  {
   "cell_type": "code",
   "execution_count": 13,
   "metadata": {
    "slideshow": {
     "slide_type": "subslide"
    }
   },
   "outputs": [
    {
     "name": "stderr",
     "output_type": "stream",
     "text": [
      "D:\\1\\a3\\lib\\site-packages\\seaborn\\_decorators.py:36: FutureWarning: Pass the following variable as a keyword arg: x. From version 0.12, the only valid positional argument will be `data`, and passing other arguments without an explicit keyword will result in an error or misinterpretation.\n",
      "  warnings.warn(\n"
     ]
    },
    {
     "data": {
      "image/png": "[encoded data removed]",
      "text/plain": [
       "<Figure size 432x288 with 1 Axes>"
      ]
     },
     "metadata": {
      "needs_background": "light"
     },
     "output_type": "display_data"
    }
   ],
   "source": [
    "# Plot the accuracy of the model\n",
    "sns.barplot(test_labels == pred, color='#00A99D')\n",
    "plt.show()"
   ]
  },
  {
   "cell_type": "code",
   "execution_count": 14,
   "metadata": {
    "slideshow": {
     "slide_type": "subslide"
    }
   },
   "outputs": [
    {
     "data": {
      "text/plain": [
       "0.72"
      ]
     },
     "execution_count": 14,
     "metadata": {},
     "output_type": "execute_result"
    }
   ],
   "source": [
    "# Calculate the accuracy\n",
    "accuracy = accuracy_score(pred, test_labels)\n",
    "accuracy"
   ]
  },
  {
   "cell_type": "markdown",
   "metadata": {
    "slideshow": {
     "slide_type": "subslide"
    }
   },
   "source": [
    "So it works, but the model is not accurate enough. Maybe not that bad since the model is trained on a relatively small dataset."
   ]
  },
  {
   "cell_type": "markdown",
   "metadata": {
    "slideshow": {
     "slide_type": "slide"
    }
   },
   "source": [
    "### Done!\n",
    "\n",
    "#### Next: _Using TF-IDF for Text Mining_"
   ]
  }
 ],
 "metadata": {
  "celltoolbar": "Slideshow",
  "kernelspec": {
   "display_name": "Python 3 (ipykernel)",
   "language": "python",
   "name": "python3"
  },
  "language_info": {
   "codemirror_mode": {
    "name": "ipython",
    "version": 3
   },
   "file_extension": ".py",
   "mimetype": "text/x-python",
   "name": "python",
   "nbconvert_exporter": "python",
   "pygments_lexer": "ipython3",
   "version": "3.9.12"
  }
 },
 "nbformat": 4,
 "nbformat_minor": 1
}
